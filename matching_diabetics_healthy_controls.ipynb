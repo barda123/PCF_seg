{
 "cells": [
  {
   "cell_type": "markdown",
   "metadata": {},
   "source": [
    "This notebook is a procedure getting age- and sex-matched controls for diabetics within the UK biobank."
   ]
  },
  {
   "cell_type": "code",
   "execution_count": null,
   "metadata": {},
   "outputs": [],
   "source": [
    "import pandas as pd\n",
    "\n",
    "import numpy as np\n",
    "\n",
    "import matplotlib.pyplot as plt\n",
    "\n",
    "import os"
   ]
  },
  {
   "cell_type": "code",
   "execution_count": null,
   "metadata": {},
   "outputs": [],
   "source": [
    "MASTERFILE = './data/healthy_diabetics.csv' #provided by Zahra\n",
    "\n",
    "masterData = pd.read_csv(MASTERFILE,low_memory=False).iloc[:,1:]\n",
    "\n",
    "diabetics = masterData.loc[masterData['diabetes']=='Diabetes',:].reset_index()\n",
    "\n",
    "Healthy = masterData.loc[masterData['healthy']=='healthy',:].reset_index()\n",
    "\n",
    "print('there are ' + str(diabetics.shape[0]) + ' diabetics in the population, and ' + str(Healthy.shape[0]) + ' healthy peoples')"
   ]
  },
  {
   "cell_type": "markdown",
   "metadata": {},
   "source": [
    "Now, we should subset for those whose data we can access!"
   ]
  },
  {
   "cell_type": "code",
   "execution_count": null,
   "metadata": {},
   "outputs": [],
   "source": []
  },
  {
   "cell_type": "markdown",
   "metadata": {},
   "source": [
    "A quick sense-check - are there any people who are both diabetic and healthy within this table?"
   ]
  },
  {
   "cell_type": "code",
   "execution_count": null,
   "metadata": {},
   "outputs": [],
   "source": [
    "np.logical_and(masterData['diabetes']=='Diabetes' , masterData['healthy']=='healthy').any()"
   ]
  },
  {
   "cell_type": "markdown",
   "metadata": {},
   "source": [
    "well, that's comforting."
   ]
  },
  {
   "cell_type": "code",
   "execution_count": null,
   "metadata": {},
   "outputs": [],
   "source": [
    "def match_age_sex(row1,row2):\n",
    "    \n",
    "    '''returns true if 2 rows have the same age and sex, otherwise false'''\n",
    "    \n",
    "    if row1['bio.Sex.0.baseline'] == row2['bio.Sex.0.baseline'] and row1['bio.Age.when.attended.assessment.centre.0.imaging'] == row2['bio.Age.when.attended.assessment.centre.0.imaging']:\n",
    "        return True\n",
    "    else:\n",
    "        return False\n",
    "    \n",
    "\n",
    "def get_match_feids(row,otherDF):\n",
    "    \n",
    "    matches = otherDF.apply(lambda x: match_age_sex(x,row), axis =1 )\n",
    "    \n",
    "    feids = otherDF.loc[matches,'f.eid'].values\n",
    "    \n",
    "    return feids\n",
    "    "
   ]
  },
  {
   "cell_type": "code",
   "execution_count": null,
   "metadata": {},
   "outputs": [],
   "source": [
    "numberOfMatches = diabetics.apply(lambda x: get_match_feids(x,Healthy).shape[0],axis=1)"
   ]
  },
  {
   "cell_type": "code",
   "execution_count": null,
   "metadata": {},
   "outputs": [],
   "source": [
    "plt.hist(numberOfMatches,bins=np.arange(-0.5,60,1))\n",
    "\n",
    "plt.xlabel('\\# matches for a diabetic')\n",
    "\n",
    "plt.ylabel('\\# diabetics')"
   ]
  },
  {
   "cell_type": "code",
   "execution_count": null,
   "metadata": {},
   "outputs": [],
   "source": [
    "b = np.arange(40,85,2.5)\n",
    "\n",
    "plt.hist(diabetics['bio.Age.when.attended.assessment.centre.0.imaging'],alpha = 0.5, label = 'diabetic',bins = b)\n",
    "\n",
    "plt.hist(Healthy['bio.Age.when.attended.assessment.centre.0.imaging'],alpha = 0.5, label = 'healthy',bins = b)\n",
    "\n",
    "plt.xlabel('age (years)')\n",
    "\n",
    "plt.ylabel('n')\n",
    "\n",
    "plt.legend()"
   ]
  },
  {
   "cell_type": "code",
   "execution_count": null,
   "metadata": {},
   "outputs": [],
   "source": [
    "\n",
    "#set random state to guarantee reproducibility\n",
    "np.random.seed(42)\n",
    "\n",
    "#randomly shuffle order of diabetics \n",
    "diabetics = diabetics.loc[np.random.permutation(diabetics.shape[0]),:]\n",
    "\n",
    "matches = []\n",
    "\n",
    "#move down the list of diabetics, selecting 1 match for each. Remove that match from the list of potential matches for others.\n",
    "for row in diabetics.iterrows():\n",
    "    \n",
    "    diabetic = row[1]\n",
    "    \n",
    "    match_feids = get_match_feids(diabetic,Healthy)\n",
    "    \n",
    "    #if there are any matches!\n",
    "    if match_feids.shape[0]>0:\n",
    "        #select 1\n",
    "        sel = np.random.randint(match_feids.shape[0])\n",
    "        match_feid = match_feids[sel]\n",
    "        \n",
    "        #remove the corresponding row from Healthy dataframe so they cannot be selected again\n",
    "        Healthy = Healthy.loc[ Healthy['f.eid'] != match_feid , : ]\n",
    "        \n",
    "        \n",
    "    else:\n",
    "        # null result (may be needed later)\n",
    "        match_feid = 0\n",
    "    \n",
    "    #add paired results to list\n",
    "    matches.append({'diabetic feid':diabetic['f.eid'],\n",
    "                    'healthy feid': match_feid,\n",
    "                    'sex': diabetic['bio.Sex.0.baseline'],\n",
    "                    'age':diabetic['bio.Age.when.attended.assessment.centre.0.imaging']\n",
    "                   })\n",
    "    \n",
    "    \n",
    "matches = pd.DataFrame(matches)\n",
    "\n",
    "matches.loc[matches['healthy feid']==0,'healthy feid'] = np.nan"
   ]
  },
  {
   "cell_type": "code",
   "execution_count": null,
   "metadata": {},
   "outputs": [],
   "source": [
    "plt.hist(matches['age'],alpha = 0.3 ,label = 'all diabetics')\n",
    "\n",
    "matched = ~matches['healthy feid'].isna()\n",
    "\n",
    "plt.hist(matches.loc[matched,'age'],alpha = 0.3, label = 'matched diabetics')\n",
    "\n",
    "plt.hist(matches.loc[~matched,'age'],alpha = 0.3, label = 'unmatched diabetics')\n",
    "\n",
    "plt.legend()"
   ]
  },
  {
   "cell_type": "markdown",
   "metadata": {},
   "source": [
    "Checks and balances:\n",
    " - Is the number of unmatched diabetics in the matches dataframe >= the number of diabetics for whom no matches exist? \n",
    " - Is the number of unmatched Healthy people consistent with the number of matched?"
   ]
  },
  {
   "cell_type": "code",
   "execution_count": null,
   "metadata": {},
   "outputs": [],
   "source": [
    "#does the number of unmatched healthy people + number of matches == the total number of healthy people?\n",
    "\n",
    "matched = matches.dropna().shape[0]\n",
    "\n",
    "unmatchedHealthy = Healthy.shape[0]\n",
    "\n",
    "matched + unmatchedHealthy"
   ]
  },
  {
   "cell_type": "markdown",
   "metadata": {},
   "source": [
    "So, I am not losing healthy people (see earlier in notebook)."
   ]
  },
  {
   "cell_type": "code",
   "execution_count": null,
   "metadata": {},
   "outputs": [],
   "source": [
    "#is the number of unmatched diabetics >= the number for whom no match exists (around 120, see histogram above)?\n",
    "print('there are ' + str(matches['healthy feid'].isna().sum()) + ' unmatched diabetics')\n"
   ]
  },
  {
   "cell_type": "code",
   "execution_count": null,
   "metadata": {},
   "outputs": [],
   "source": [
    "matches.to_csv('./data/matched_diabetics_healthy_all.csv')"
   ]
  },
  {
   "cell_type": "markdown",
   "metadata": {},
   "source": [
    "Now, take a random sample of 250 pairs."
   ]
  },
  {
   "cell_type": "code",
   "execution_count": null,
   "metadata": {},
   "outputs": [],
   "source": [
    "#only valid matches\n",
    "positiveMatches = matches.dropna()\n",
    "\n",
    "#make sure the healthy ones are written as ints, for easier lookup later\n",
    "positiveMatches.loc[:,'healthy feid']=positiveMatches['healthy feid'].astype('int')\n",
    "\n",
    "#set random seed so this is deterministic\n",
    "np.random.seed(44)\n",
    "\n",
    "sampleSize = 250 #NUMBER OF PAIRS\n",
    "\n",
    "#random choice of 250 pairs, no replacement\n",
    "sampler = np.random.choice(positiveMatches.shape[0],sampleSize,replace=False)\n",
    "\n",
    "subsample = positiveMatches.iloc[sampler,:]\n",
    "\n",
    "subsample.to_csv('./data/matched_diabetics_healthy_' + str(sampleSize) + '.csv',index=False)"
   ]
  },
  {
   "cell_type": "code",
   "execution_count": null,
   "metadata": {},
   "outputs": [],
   "source": [
    "subsample = pd.read_csv('./data/matched_diabetics_healthy_' + str(sampleSize) + '.csv')"
   ]
  },
  {
   "cell_type": "markdown",
   "metadata": {},
   "source": [
    "Final check - are the feids unique within both columns? THIS IS IMPORTANT"
   ]
  },
  {
   "cell_type": "code",
   "execution_count": null,
   "metadata": {},
   "outputs": [],
   "source": [
    "positiveMatches['diabetic feid'].unique().shape == positiveMatches['diabetic feid'].shape"
   ]
  },
  {
   "cell_type": "code",
   "execution_count": null,
   "metadata": {},
   "outputs": [],
   "source": [
    "positiveMatches['healthy feid'].unique().shape == positiveMatches['healthy feid'].shape"
   ]
  },
  {
   "cell_type": "markdown",
   "metadata": {},
   "source": [
    "Now, for ease of use, we can write out a txt containing the valid data that can be found. This will allow us to scp all the relevant files over... Also I should look at precisely how much space they will take for the destination machine."
   ]
  },
  {
   "cell_type": "code",
   "execution_count": null,
   "metadata": {},
   "outputs": [],
   "source": [
    "#convert to just a list of all of the feids\n",
    "allFeids = pd.concat((subsample['diabetic feid'].dropna().astype('int'),subsample['healthy feid'].dropna().astype('int'))).reset_index(drop=True).apply(str)"
   ]
  },
  {
   "cell_type": "code",
   "execution_count": null,
   "metadata": {},
   "outputs": [],
   "source": [
    "\n",
    "rawTopDir = '/images/imaging_by_participant/'\n",
    "\n",
    "def get_path_to_participant_raw(topDir,feid , suffix):\n",
    "        \n",
    "    tryIt = os.path.join(topDir, (feid[:2] + 'xxxxx'), feid, (feid + suffix) )\n",
    "    \n",
    "    if os.path.isfile(tryIt):        \n",
    "        return tryIt\n",
    "    else:\n",
    "        return np.nan\n",
    "    \n",
    "#gets a list of paths to raw zipfiles, but with nans where file isn't there...\n",
    "allRawFiles = allFeids.apply(lambda x: get_path_to_participant_raw(rawTopDir, str(x) , '_longaxis.zip'))"
   ]
  },
  {
   "cell_type": "code",
   "execution_count": null,
   "metadata": {},
   "outputs": [],
   "source": [
    "foundRawFiles = allRawFiles.dropna()\n",
    "\n",
    "print('found ' + str(foundRawFiles.shape[0]) + ' of ' + str(allRawFiles.shape[0]) + '. Sort your shit out for the remaining ' + str(allRawFiles.shape[0] - foundRawFiles.shape[0]))"
   ]
  },
  {
   "cell_type": "code",
   "execution_count": null,
   "metadata": {},
   "outputs": [],
   "source": [
    "listOfFilesToSync = '\\n'.join(foundRawFiles.values)\n",
    "\n",
    "with open('./data/listOfLAXZipfiles.txt','w+') as f:\n",
    "    f.write(listOfFilesToSync)"
   ]
  },
  {
   "cell_type": "code",
   "execution_count": null,
   "metadata": {},
   "outputs": [],
   "source": []
  }
 ],
 "metadata": {
  "kernelspec": {
   "display_name": "Python 3",
   "language": "python",
   "name": "python3"
  },
  "language_info": {
   "codemirror_mode": {
    "name": "ipython",
    "version": 3
   },
   "file_extension": ".py",
   "mimetype": "text/x-python",
   "name": "python",
   "nbconvert_exporter": "python",
   "pygments_lexer": "ipython3",
   "version": "3.7.6"
  }
 },
 "nbformat": 4,
 "nbformat_minor": 4
}
