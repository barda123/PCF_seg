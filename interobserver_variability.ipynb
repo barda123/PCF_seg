{
 "cells": [
  {
   "cell_type": "markdown",
   "metadata": {},
   "source": [
    "This notebook is for quantifying the contours drawn by mutiple different observers."
   ]
  },
  {
   "cell_type": "code",
   "execution_count": null,
   "metadata": {},
   "outputs": [],
   "source": [
    "import glob\n",
    "\n",
    "import os\n",
    "\n",
    "import numpy as np\n",
    "\n",
    "from Converters import parse_cvi42_xml\n",
    "\n",
    "from mask_utils import contour2mask,iou,dsc,symmetric_hausdorff_distance,mean_contour_distance\n",
    "\n",
    "import pickle\n",
    "\n",
    "import matplotlib.pyplot as plt\n",
    "\n",
    "import pandas as pd\n",
    "\n",
    "from itertools import combinations\n",
    "\n",
    "import pydicom as dcm"
   ]
  },
  {
   "cell_type": "code",
   "execution_count": null,
   "metadata": {},
   "outputs": [],
   "source": [
    "#main directory to store pickle files etc\n",
    "crossValidation_temp_folder = './data/pericardial/interobserver_variability/'\n",
    "\n",
    "#list of folders containing contour files\n",
    "crossValidationFolders = ['./data/pericardial/wsx_round2',\n",
    "                          './data/pericardial/interobserver_variability/zre_contours/',\n",
    "                          './data/pericardial/interobserver_variability/sep_contours/'\n",
    "                         ]\n",
    "\n",
    "DICOMDIR = './data/pericardial/wsx_round2/paired/'#the folder where all the original dicoms can be found...\n",
    "\n",
    "#list of all wsx files in each folder\n",
    "allWsxFiles = [glob.glob(os.path.join(f, '*.cvi42wsx')) for f in crossValidationFolders]\n",
    "\n",
    "#just the patient names...\n",
    "def get_patient_name(file):\n",
    "    return os.path.basename(file)[:8]\n",
    "\n",
    "patientNames = [[get_patient_name(file) for file in folder] for folder in allWsxFiles]\n",
    "\n",
    "\n",
    "#all the patient names which are in ALL of the folders\n",
    "intersectionPatientNames = set(patientNames[0]).intersection(*patientNames)\n",
    "\n",
    "observerFolders = []\n",
    "\n",
    "#loop over each folder, creating another folder for the outputs, and processing the wsx files into them\n",
    "for ind,folder in enumerate(allWsxFiles):\n",
    "    \n",
    "    outputFolder = os.path.join(crossValidation_temp_folder,'observer' + str(ind+1))\n",
    "    \n",
    "    if not os.path.isdir(outputFolder):\n",
    "        os.mkdir(outputFolder)\n",
    "    \n",
    "    #loop over the files\n",
    "    for file in folder:\n",
    "        #if wsx file is shared, process it into pickle files...\n",
    "        if get_patient_name(file) in intersectionPatientNames:\n",
    "            parse_cvi42_xml.parseFile(file,output_dir=outputFolder)\n",
    "            \n",
    "    observerFolders.append(outputFolder)            "
   ]
  },
  {
   "cell_type": "markdown",
   "metadata": {},
   "source": [
    "Due to slight naming inconsistencies, we should use only the pickle files named after dicom images from here onwards."
   ]
  },
  {
   "cell_type": "code",
   "execution_count": null,
   "metadata": {},
   "outputs": [],
   "source": [
    "allPickles = []\n",
    "for folder in observerFolders:\n",
    "    \n",
    "    pickles = glob.glob(os.path.join(folder,'*.pickle'))\n",
    "    pickles = [os.path.basename(p) for p in pickles if '_contours_dct.pickle' not in p] \n",
    "    \n",
    "    allPickles.append(pickles)\n",
    "    \n",
    "#the unique pickle files for each contour\n",
    "intersectPickles = set(allPickles[0]).intersection(*allPickles)\n",
    "\n",
    "#also get the pixel spacing from the original DICOM files..\n",
    "dicomFiles = [os.path.join(DICOMDIR,p.replace('.pickle','.dcm')) for p in intersectPickles]\n",
    "pxSpacing = [dcm.read_file(d).PixelSpacing[0] for d in dicomFiles]\n",
    "\n",
    "\n",
    "assert len(intersectPickles)==len(intersectionPatientNames),'You have messed something up'"
   ]
  },
  {
   "cell_type": "code",
   "execution_count": null,
   "metadata": {},
   "outputs": [],
   "source": [
    "#an arbitrary numpy array which is bigger than any of the images and can be used for mask creation\n",
    "im = np.zeros((400,400))\n",
    "\n",
    "def get_mask(file):\n",
    "    with open(file,'rb') as f:\n",
    "        contour = pickle.load(f)\n",
    "    mask = contour2mask(contour,im)\n",
    "    return mask"
   ]
  },
  {
   "cell_type": "code",
   "execution_count": null,
   "metadata": {},
   "outputs": [],
   "source": [
    "\n",
    "pairwiseComparisons = combinations(observerFolders,2)\n",
    "\n",
    "ious = pd.DataFrame()\n",
    "dscs = pd.DataFrame()\n",
    "shds = pd.DataFrame()\n",
    "mcds = pd.DataFrame()\n",
    "\n",
    "#loop over the pickle files\n",
    "for ind,file in enumerate(intersectPickles):\n",
    "    pairwiseComparisons = combinations(observerFolders,2)\n",
    "    #loop over the pairwise observer comparisons\n",
    "    for a,b in pairwiseComparisons:\n",
    "\n",
    "        columnName = ' vs '.join([os.path.basename(a),os.path.basename(b)])\n",
    "\n",
    "        #get masks\n",
    "        aMask = get_mask(os.path.join(a,file))\n",
    "        bMask = get_mask(os.path.join(b,file))\n",
    "\n",
    "        #compare them!\n",
    "        ious.loc[ind,columnName] = iou(aMask,bMask)\n",
    "        dscs.loc[ind,columnName] = dsc(aMask,bMask)\n",
    "        shds.loc[ind,columnName] = symmetric_hausdorff_distance(aMask,bMask,pxSpacing[ind])\n",
    "        mcds.loc[ind,columnName] = mean_contour_distance(aMask,bMask,pxSpacing[ind])\n",
    "    "
   ]
  },
  {
   "cell_type": "code",
   "execution_count": null,
   "metadata": {},
   "outputs": [],
   "source": [
    "allMetrics = pd.DataFrame(columns=ious.columns)\n",
    "\n",
    "for name,metric in [('intersection-over-union',ious),('dice coefficient',dscs),('mean contour distance (mm)',mcds),('symmetric hausdorff distance (mm)', shds)]:\n",
    "    \n",
    "    desc = metric.describe()    \n",
    "    allMetrics.loc[name + ' mean',:] = desc.loc['mean',:]\n",
    "    allMetrics.loc[name + ' std',:] = desc.loc['std',:]\n",
    "    \n",
    "allMetrics.to_csv('./graphs/interobserver_variability_statistics.csv')"
   ]
  },
  {
   "cell_type": "code",
   "execution_count": null,
   "metadata": {},
   "outputs": [],
   "source": [
    "allMetrics"
   ]
  },
  {
   "cell_type": "markdown",
   "metadata": {},
   "source": [
    "Now, lets do a bland-altman plot (because that's fun)"
   ]
  },
  {
   "cell_type": "code",
   "execution_count": null,
   "metadata": {},
   "outputs": [],
   "source": [
    "plt.figure(figsize = (15,5))\n",
    "\n",
    "pairwiseComparisons = combinations(observerFolders,2)\n",
    "\n",
    "for ind,(a,b) in enumerate(pairwiseComparisons):\n",
    "    \n",
    "    #bland-altman plot for the the test set...\n",
    "    aAreas = np.array([np.sum(get_mask(os.path.join(a,file)))*(spacing**2)/100 for spacing,file in zip(pxSpacing,intersectPickles)])\n",
    "    bAreas = np.array([np.sum(get_mask(os.path.join(b,file)))*(spacing**2)/100 for spacing,file in zip(pxSpacing,intersectPickles)])\n",
    "\n",
    "    meanArea = (aAreas + bAreas) /2\n",
    "    diffArea = aAreas - bAreas\n",
    "\n",
    "    meanDiff = np.mean(diffArea)\n",
    "    stdDiff = np.std(diffArea)\n",
    "\n",
    "\n",
    "    plt.subplot(1,3,ind+1)\n",
    "    plt.scatter(meanArea,diffArea)\n",
    "\n",
    "    plt.axhline(meanDiff,c='k',alpha = 0.5)\n",
    "    plt.axhline(meanDiff + 1.96*stdDiff,c='k',alpha = 0.5, linestyle = '--')\n",
    "    plt.axhline(meanDiff - 1.96*stdDiff,c='k',alpha = 0.5, linestyle = '--')\n",
    "\n",
    "    plt.title(' vs '.join([os.path.basename(a),os.path.basename(b)]) + ' (n = '+ str(len(intersectPickles)) + ')')\n",
    "    \n",
    "    plt.xlim([-40,40])\n",
    "    plt.ylim([0,80])\n",
    "\n",
    "plt.savefig('./graphs/interobserver_variability_bland-altman.png')\n",
    "plt.savefig('./graphs/interobserver_variability_bland-altman.svg')"
   ]
  },
  {
   "cell_type": "code",
   "execution_count": null,
   "metadata": {},
   "outputs": [],
   "source": [
    "plt.figure(figsize = (12,10))\n",
    "\n",
    "plt.subplot(2,2,1)\n",
    "for col in ious.columns:\n",
    "    plt.hist(ious[col].values,bins = np.arange(0,1.05,0.05),density = True,label = col, alpha = 0.5)\n",
    "#     plt.hist(ious[col].values,density = True,label = col, alpha = 0.5)\n",
    "plt.xlim([0,1])\n",
    "plt.xlabel('intersection-over-union')\n",
    "plt.ylabel('probability density')\n",
    "\n",
    "plt.subplot(2,2,2)\n",
    "for col in dscs.columns:\n",
    "    plt.hist(dscs[col].values,bins = np.arange(0,1.05,0.05),density = True,label = col, alpha = 0.5)\n",
    "#     plt.hist(dscs[col].values,density = True,label = col, alpha = 0.5)\n",
    "plt.xlim([0,1])\n",
    "plt.xlabel('dice coefficient')\n",
    "plt.ylabel('probability density')\n",
    "\n",
    "plt.subplot(2,2,3)\n",
    "\n",
    "for col in mcds.columns:\n",
    "#     plt.hist(mcds[col].values,bins = np.arange(0,20,1),density = True,label = col, alpha = 0.5)\n",
    "    plt.hist(mcds[col].values,density = True,label = col, alpha = 0.5)\n",
    "plt.xlabel('mean contour distance (mm)')\n",
    "\n",
    "plt.ylabel('probability density')\n",
    "plt.subplot(2,2,4)\n",
    "for col in shds.columns:\n",
    "#     plt.hist(shds[col].values,bins = np.arange(0,200,10),density = True,label = col, alpha = 0.5)\n",
    "    plt.hist(shds[col].values,density = True,label = col, alpha = 0.5)\n",
    "plt.xlabel('hausdorff distance (mm)')\n",
    "\n",
    "plt.ylabel('probability density')\n",
    "plt.legend()\n",
    "\n",
    "plt.savefig('./graphs/interobserver_variability_histograms.png')\n",
    "plt.savefig('./graphs/interobserver_variability_histograms.svg')"
   ]
  },
  {
   "cell_type": "code",
   "execution_count": null,
   "metadata": {},
   "outputs": [],
   "source": []
  }
 ],
 "metadata": {
  "kernelspec": {
   "display_name": "TensorFlow 2.0 GPU",
   "language": "python",
   "name": "tf2-gpu"
  },
  "language_info": {
   "codemirror_mode": {
    "name": "ipython",
    "version": 3
   },
   "file_extension": ".py",
   "mimetype": "text/x-python",
   "name": "python",
   "nbconvert_exporter": "python",
   "pygments_lexer": "ipython3",
   "version": "3.7.6"
  }
 },
 "nbformat": 4,
 "nbformat_minor": 4
}
