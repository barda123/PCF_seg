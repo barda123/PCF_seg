{
 "cells": [
  {
   "cell_type": "code",
   "execution_count": null,
   "metadata": {},
   "outputs": [],
   "source": [
    "from Converters import parse_cvi42_xml as wsx"
   ]
  },
  {
   "cell_type": "code",
   "execution_count": null,
   "metadata": {},
   "outputs": [],
   "source": [
    "wsx.parseFile('./pericardial/perifat1_cont.cvi42wsx')"
   ]
  },
  {
   "cell_type": "code",
   "execution_count": null,
   "metadata": {},
   "outputs": [],
   "source": [
    "import json"
   ]
  },
  {
   "cell_type": "code",
   "execution_count": null,
   "metadata": {},
   "outputs": [],
   "source": [
    "d = json.load(open('pericardial/perifat1_cont_contours.json','r'))"
   ]
  },
  {
   "cell_type": "code",
   "execution_count": null,
   "metadata": {},
   "outputs": [],
   "source": [
    "import pickle"
   ]
  },
  {
   "cell_type": "code",
   "execution_count": null,
   "metadata": {},
   "outputs": [],
   "source": [
    "with open('./pericardial/1.3.12.2.1107.5.2.18.41754.2015081410592855489077245.pickle','rb') as f:\n",
    "    a = pickle.load(f)"
   ]
  },
  {
   "cell_type": "code",
   "execution_count": null,
   "metadata": {},
   "outputs": [],
   "source": [
    "with open('./pericardial/1.3.12.2.1107.5.2.18.41754.201508141059285567277192.pickle','rb') as f:\n",
    "    b = pickle.load(f)"
   ]
  },
  {
   "cell_type": "code",
   "execution_count": null,
   "metadata": {},
   "outputs": [],
   "source": [
    "with open('./pericardial/perifat1_cont_contours_dct.pickle','rb') as f:\n",
    "    c = pickle.load(f)"
   ]
  },
  {
   "cell_type": "code",
   "execution_count": null,
   "metadata": {},
   "outputs": [],
   "source": [
    "c.keys()"
   ]
  },
  {
   "cell_type": "code",
   "execution_count": null,
   "metadata": {},
   "outputs": [],
   "source": [
    "import matplotlib.pyplot as plt\n",
    "\n",
    "import matplotlib.path as mpath"
   ]
  },
  {
   "cell_type": "code",
   "execution_count": null,
   "metadata": {},
   "outputs": [],
   "source": [
    "contour = a['freeDrawRoiContour']"
   ]
  },
  {
   "cell_type": "code",
   "execution_count": null,
   "metadata": {},
   "outputs": [],
   "source": [
    "import numpy as np"
   ]
  },
  {
   "cell_type": "code",
   "execution_count": null,
   "metadata": {},
   "outputs": [],
   "source": [
    "plt.scatter(contour[:,0],contour[:,1])\n",
    "\n",
    "plt.axis('equal')"
   ]
  },
  {
   "cell_type": "code",
   "execution_count": null,
   "metadata": {},
   "outputs": [],
   "source": [
    "pxx,pxy = np.meshgrid(np.arange(70,170),np.arange(30,100))"
   ]
  },
  {
   "cell_type": "code",
   "execution_count": null,
   "metadata": {},
   "outputs": [],
   "source": [
    "path = mpath.Path(contour)"
   ]
  },
  {
   "cell_type": "code",
   "execution_count": null,
   "metadata": {},
   "outputs": [],
   "source": [
    "pxx = pxx.reshape(-1,1)\n",
    "pxy = pxy.reshape(-1,1)"
   ]
  },
  {
   "cell_type": "code",
   "execution_count": null,
   "metadata": {},
   "outputs": [],
   "source": [
    "inPoly = path.contains_points(np.concatenate((pxx,pxy),axis=1))"
   ]
  },
  {
   "cell_type": "code",
   "execution_count": null,
   "metadata": {},
   "outputs": [],
   "source": [
    "plt.scatter(pxx[~inPoly],pxy[~inPoly])\n",
    "\n",
    "plt.scatter(pxx[inPoly],pxy[inPoly])\n",
    "\n",
    "plt.axis('equal')"
   ]
  },
  {
   "cell_type": "code",
   "execution_count": null,
   "metadata": {},
   "outputs": [],
   "source": [
    "pxx,pxy = np"
   ]
  },
  {
   "cell_type": "code",
   "execution_count": null,
   "metadata": {},
   "outputs": [],
   "source": [
    "for c in b.keys():\n",
    "    \n",
    "#     plt.scatter(b[c][:,0],b[c][:,1])\n",
    "    \n",
    "    path = mpath.Path(b[c])\n",
    "    \n",
    "    inPoly = path.contains_points(np.concatenate((pxx,pxy),axis=1))\n",
    "    \n",
    "    plt.scatter(pxx[inPoly],pxy[inPoly],alpha = 0.2)\n",
    "    \n",
    "plt.axis('square')"
   ]
  },
  {
   "cell_type": "code",
   "execution_count": null,
   "metadata": {},
   "outputs": [],
   "source": [
    "import pydicom as dcm"
   ]
  },
  {
   "cell_type": "code",
   "execution_count": null,
   "metadata": {},
   "outputs": [],
   "source": [
    "dicom = dcm.dcmread('./pericardial/example/1.3.12.2.1107.5.2.18.41754.2015081410592855489077245.dcm',stop_before_pixels=False)"
   ]
  },
  {
   "cell_type": "code",
   "execution_count": null,
   "metadata": {},
   "outputs": [],
   "source": [
    "dicom.file_meta"
   ]
  },
  {
   "cell_type": "code",
   "execution_count": null,
   "metadata": {},
   "outputs": [],
   "source": [
    "plt.imshow(dicom.pixel_array,cmap = 'gray')\n",
    "\n",
    "plt.scatter(a['freeDrawRoiContour'][:,0],a['freeDrawRoiContour'][:,1],c='r',s=1)"
   ]
  },
  {
   "cell_type": "markdown",
   "metadata": {},
   "source": [
    "So, it appears that contours and images are in a matched coordinate space. The issue is going to be whether \"real\" scaling is necessary for this project..."
   ]
  },
  {
   "cell_type": "code",
   "execution_count": null,
   "metadata": {},
   "outputs": [],
   "source": [
    "#now try the other one, with 3 contours\n",
    "\n",
    "\n",
    "plt.figure(figsize = (30,30))\n",
    "\n",
    "dicom = dcm.dcmread('./pericardial/example/1.3.12.2.1107.5.2.18.41754.201508141059285567277192.dcm',stop_before_pixels=False)\n",
    "\n",
    "plt.imshow(dicom.pixel_array,cmap='gray')\n",
    "\n",
    "for c in b.keys():\n",
    "    \n",
    "    plt.scatter(b[c][:,0],b[c][:,1],s=1)\n"
   ]
  },
  {
   "cell_type": "code",
   "execution_count": null,
   "metadata": {},
   "outputs": [],
   "source": [
    "[px,py] = np.meshgrid(*[range(x) for x in dicom.pixel_array.shape])\n",
    "\n",
    "px = px.reshape(-1,1)\n",
    "py = py.reshape(-1,1)\n",
    "\n",
    "pxy = np.concatenate([px,py],axis=1)"
   ]
  },
  {
   "cell_type": "markdown",
   "metadata": {},
   "source": [
    "HOW TO CHECK FOR OFF-BY-ONE ERRORS?\n",
    "\n",
    "if there were an off-by-one error due to Python zero-index and cvi42 one-indexing, then we would expect the cvi42 coordinates to be 1 higher than the correct python coordinates, so we would subtract one to get them back in frame.\n",
    "\n",
    "let's have a look at this comparison..."
   ]
  },
  {
   "cell_type": "code",
   "execution_count": null,
   "metadata": {},
   "outputs": [],
   "source": [
    "plt.figure(figsize = (30,30))\n",
    "\n",
    "dicom = dcm.dcmread('./pericardial/example/1.3.12.2.1107.5.2.18.41754.201508141059285567277192.dcm',stop_before_pixels=False)\n",
    "\n",
    "plt.imshow(dicom.pixel_array,cmap='gray')\n",
    "\n",
    "for c in b.keys():\n",
    "    \n",
    "    plt.scatter(b[c][:,0],b[c][:,1],s=1,c='r',label = 'correct')\n",
    "    \n",
    "    \n",
    "    plt.scatter(b[c][:,0]-1,b[c][:,1]-1,s=1,c='g',label = 'off-by-one')\n",
    "    \n",
    "    \n",
    "plt.legend()\n"
   ]
  },
  {
   "cell_type": "code",
   "execution_count": null,
   "metadata": {},
   "outputs": [],
   "source": [
    "plt.figure(figsize = (30,30))\n",
    "\n",
    "dicom = dcm.dcmread('./pericardial/example/1.3.12.2.1107.5.2.18.41754.2015081410592855489077245.dcm',stop_before_pixels=False)\n",
    "\n",
    "plt.imshow(dicom.pixel_array,cmap='gray')\n",
    "\n",
    "for c in a.keys():\n",
    "    \n",
    "    plt.scatter(a[c][:,0],a[c][:,1],s=1,c='r',label = 'correct')\n",
    "    \n",
    "    \n",
    "    plt.scatter(a[c][:,0]-1,a[c][:,1]-1,s=1,c='g',label = 'off-by-one')\n",
    "    \n",
    "    \n",
    "    \n",
    "plt.legend()\n"
   ]
  },
  {
   "cell_type": "markdown",
   "metadata": {},
   "source": [
    "Well, that's not very fucking helpful is it."
   ]
  },
  {
   "cell_type": "code",
   "execution_count": null,
   "metadata": {},
   "outputs": [],
   "source": [
    "dicom[('0028','0030')]"
   ]
  },
  {
   "cell_type": "code",
   "execution_count": null,
   "metadata": {},
   "outputs": [],
   "source": [
    "#lets try that again but using the origin and pixel spacing...\n",
    "\n",
    "origin_key = ('0020', '0032')\n",
    "\n",
    "orientation_key = ('0020', '0037')\n",
    "\n",
    "pixelSize_key = ('0028','0030')\n",
    "\n",
    "origin = dicom[origin_key]"
   ]
  },
  {
   "cell_type": "code",
   "execution_count": null,
   "metadata": {},
   "outputs": [],
   "source": []
  }
 ],
 "metadata": {
  "kernelspec": {
   "display_name": "DICOM",
   "language": "python",
   "name": "dicom"
  },
  "language_info": {
   "codemirror_mode": {
    "name": "ipython",
    "version": 3
   },
   "file_extension": ".py",
   "mimetype": "text/x-python",
   "name": "python",
   "nbconvert_exporter": "python",
   "pygments_lexer": "ipython3",
   "version": "3.6.10"
  }
 },
 "nbformat": 4,
 "nbformat_minor": 4
}
