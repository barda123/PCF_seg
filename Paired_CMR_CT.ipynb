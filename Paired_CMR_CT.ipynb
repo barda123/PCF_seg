{
 "cells": [
  {
   "cell_type": "markdown",
   "metadata": {},
   "source": [
    "This notebook will only run if data contains paired data downloaded from the Barts PACS - patients which were enrolled on the local EVINCI substudy (ask Francesca Pugliese about this)"
   ]
  },
  {
   "cell_type": "code",
   "execution_count": null,
   "metadata": {},
   "outputs": [],
   "source": [
    "import pydicom as dcm\n",
    "\n",
    "import numpy as np\n",
    "\n",
    "import glob\n",
    "\n",
    "import os\n",
    "\n",
    "import re\n",
    "\n",
    "from shutil import copyfile\n",
    "\n",
    "import matplotlib.pyplot as plt\n",
    "\n",
    "from network_utils import predict_stochastic\n",
    "from MultiResUNet.MultiResUNet import MultiResUnet\n",
    "\n",
    "from mask_utils import load_image,show_image_with_masks\n",
    "\n",
    "from tensorflow.keras.models import model_from_json\n",
    "\n",
    "import pickle\n",
    "\n",
    "import pandas as pd\n",
    "\n",
    "from scipy.stats import pearsonr"
   ]
  },
  {
   "cell_type": "code",
   "execution_count": null,
   "metadata": {},
   "outputs": [],
   "source": [
    "def get_patient_ID(DICOMDIR):\n",
    "    \n",
    "    registry = dcm.read_file(DICOMDIR)\n",
    "    \n",
    "    patientID = registry.DirectoryRecordSequence[0].PatientID\n",
    "    \n",
    "    return patientID\n",
    "\n",
    "def get_matching_files(DICOMDIR,SeriesDescription):\n",
    "    \n",
    "    '''takes a path to a DICOMDIR registry file, a series description and return file paths for all DICOMs from the corresponding series'''\n",
    "\n",
    "    registry = dcm.read_file(DICOMDIR)\n",
    "    #the directory containing the referenced file - which will be the top of a file tree containing all files referenced by the registry\n",
    "    containerDirectory = os.path.split(DICOMDIR)[0]\n",
    "    \n",
    "    \n",
    "    startIndex = None\n",
    "    endIndex = None\n",
    "    alldescs = []\n",
    "    \n",
    "    \n",
    "    for index,item in enumerate(registry.DirectoryRecordSequence):\n",
    "        \n",
    "        if item.DirectoryRecordType == 'SERIES':\n",
    "            alldescs.append(item.SeriesDescription)\n",
    "            if re.match(SeriesDescription,item.SeriesDescription) and startIndex is None:\n",
    "                startIndex = index+1\n",
    "            elif startIndex is not None and endIndex is None:\n",
    "                endIndex = index\n",
    "    \n",
    "    if startIndex is not None:\n",
    "        matchingFiles = []\n",
    "        for item in registry.DirectoryRecordSequence[startIndex:endIndex]:\n",
    "            if item.DirectoryRecordType == 'IMAGE':\n",
    "                filename = os.path.join(containerDirectory,*item.ReferencedFileID)\n",
    "                matchingFiles.append(filename)\n",
    "\n",
    "        return matchingFiles\n",
    "\n",
    "def first_image_in_series(listOfDicomFiles):\n",
    "    \n",
    "    #first sort the list, as usually the one with the lowest trigger time is also the first one after sorting\n",
    "    if listOfDicomFiles is not None:\n",
    "        sortedList = sorted(listOfDicomFiles)\n",
    "\n",
    "        for dicom in sortedList:\n",
    "            triggerTime = dcm.read_file(dicom).TriggerTime\n",
    "            if triggerTime == 0.0:\n",
    "                return dicom"
   ]
  },
  {
   "cell_type": "code",
   "execution_count": null,
   "metadata": {},
   "outputs": [],
   "source": [
    "DICOMDIRS = glob.glob(os.path.join('data','DICOMS','*','DICOMDIR'))\n",
    "subjects = glob.glob(os.path.join('data','DICOMS','*'))\n",
    "\n",
    "patientIDs = [get_patient_ID(d) for d in DICOMDIRS]"
   ]
  },
  {
   "cell_type": "code",
   "execution_count": null,
   "metadata": {},
   "outputs": [],
   "source": [
    "#regex-able patterns for the different sequences present\n",
    "BTFE = 'B-TFE_4CH'\n",
    "alternateBTFE = '4ch_cine'\n",
    "CaSc = '.*CaSc'\n",
    "\n",
    "dicomBTFEs = []\n",
    "\n",
    "for d in DICOMDIRS:\n",
    "    \n",
    "    dBTFE = first_image_in_series(get_matching_files(d,BTFE))\n",
    "    if not BTFE: #try the alternate string\n",
    "        dBTFE = first_image_in_series(get_matching_files(d,alternateBTFE))\n",
    "    dicomBTFEs.append(dBTFE)\n"
   ]
  },
  {
   "cell_type": "code",
   "execution_count": null,
   "metadata": {},
   "outputs": [],
   "source": [
    "dicomCTs = [get_matching_files(d,CaSc) for d in DICOMDIRS]"
   ]
  },
  {
   "cell_type": "code",
   "execution_count": null,
   "metadata": {},
   "outputs": [],
   "source": [
    "#THIS JUST USED FOR COPYING CT FILES SO QFAT IS EASIER TO USE\n",
    "CTFOLDER = os.path.join('data','CT')\n",
    "\n",
    "for s,ctList in zip(subjects,dicomCTs):\n",
    "    subjectFolder = os.path.join(CTFOLDER,os.path.split(s)[1])\n",
    "    if not os.path.isdir(subjectFolder):\n",
    "        os.makedirs(subjectFolder)\n",
    "    [copyfile(d,os.path.join(subjectFolder,os.path.split(d)[1])) for d in ctList]\n",
    "    "
   ]
  },
  {
   "cell_type": "markdown",
   "metadata": {},
   "source": [
    "Now, use QFAT to analyse all of those folders (cannot currently be done programmatically). Put the results file in 'data'"
   ]
  },
  {
   "cell_type": "markdown",
   "metadata": {},
   "source": [
    "Now, load the model which will be used to make predictions..."
   ]
  },
  {
   "cell_type": "code",
   "execution_count": null,
   "metadata": {},
   "outputs": [],
   "source": [
    "#load the model\n",
    "modelBaseName = 'mrunet_bayesian_2020-07-13_13-40' \n",
    "\n",
    "#location of the actual saved model\n",
    "modelBaseName = os.path.join('data','models',modelBaseName)\n",
    "\n",
    "modelParamFile = modelBaseName + '.h5'\n",
    "modelArchitecture = modelBaseName + '.json'\n",
    "\n",
    "with open( modelArchitecture , 'r') as json_file:\n",
    "    MODEL = model_from_json( json_file.read() )\n",
    "\n",
    "MODEL.load_weights(modelParamFile)\n",
    "\n",
    "#hyperparameter N, defined according to quantify_model_performance.ipynb\n",
    "N = 15\n",
    "\n",
    "accuracyModelPath = modelBaseName + '_prediction_conversion.pickle'\n",
    "ACCURACYMODEL = pickle.load(open(accuracyModelPath,'rb'))\n"
   ]
  },
  {
   "cell_type": "markdown",
   "metadata": {},
   "source": [
    "Now, load the details for image preprocessing:\n"
   ]
  },
  {
   "cell_type": "code",
   "execution_count": null,
   "metadata": {},
   "outputs": [],
   "source": [
    "PADSIZE = pickle.load(open(os.path.join('data','PADSIZE.pickle'),'rb'))\n",
    "PXSPACING = pickle.load(open(os.path.join('data','PXSPACING.pickle'),'rb'))\n",
    "PXAREA = np.product(PXSPACING)"
   ]
  },
  {
   "cell_type": "code",
   "execution_count": null,
   "metadata": {},
   "outputs": [],
   "source": [
    "RESNAMES = ['meanArea (cm2)','stdArea (cm2)','predicted DSC']\n",
    "\n",
    "def get_image(imagePath):\n",
    "\n",
    "    im = load_image(imagePath,desiredPxSpacing=PXSPACING, padSize=PADSIZE)[0]\n",
    "    \n",
    "    return im\n",
    "\n",
    "def quantify_fat(im):\n",
    "    \n",
    "    im = im.reshape((1,*im.shape,1))\n",
    "    res = predict_stochastic(MODEL,N,ACCURACYMODEL,im) \n",
    "    \n",
    "    prediction = res[0]\n",
    "\n",
    "    #wrap up into a dict for easy DataFram-ing. The first 2 outputs are the actual segmentation and the uncertainty map so not needed in a results table\n",
    "    resultDict = dict(zip(RESNAMES,res[2:]))\n",
    "\n",
    "    #ensure that units of area are correct...\n",
    "    resultDict['meanArea (cm2)'] *= (PXAREA/100)\n",
    "    resultDict['stdArea (cm2)'] *= (PXAREA/100)\n",
    "    return resultDict,prediction"
   ]
  },
  {
   "cell_type": "code",
   "execution_count": null,
   "metadata": {},
   "outputs": [],
   "source": [
    "np.argwhere(bad)"
   ]
  },
  {
   "cell_type": "code",
   "execution_count": null,
   "metadata": {},
   "outputs": [],
   "source": [
    "badQC.index[badQC]"
   ]
  },
  {
   "cell_type": "code",
   "execution_count": null,
   "metadata": {},
   "outputs": [],
   "source": [
    "[i for i,n in enumerate(patientIDs) if n in badQC.index[badQC]]"
   ]
  },
  {
   "cell_type": "code",
   "execution_count": null,
   "metadata": {},
   "outputs": [],
   "source": [
    "QFAT.iloc[34]['BTFE predicted DSC']"
   ]
  },
  {
   "cell_type": "code",
   "execution_count": null,
   "metadata": {},
   "outputs": [],
   "source": [
    "eg = 107\n",
    "\n",
    "plt.figure(figsize = (5,5))\n",
    "\n",
    "im = get_image(dicomBTFEs[eg])\n",
    "result,mask = quantify_fat(im)\n",
    "show_image_with_masks(im,mask.squeeze(),{'c':'r','linewidth':0.5})\n",
    "plt.title('predicted DSC = %.02f'  %result['predicted DSC'])\n",
    "\n",
    "plt.savefig(os.path.join('graphs','CTComparison','example' + str(eg) + '.png'))\n",
    "plt.savefig(os.path.join('graphs','CTComparison','example' + str(eg) + '.svg'))"
   ]
  },
  {
   "cell_type": "markdown",
   "metadata": {},
   "source": [
    "Now, we read the results table from QFAT so we can match up "
   ]
  },
  {
   "cell_type": "code",
   "execution_count": null,
   "metadata": {},
   "outputs": [],
   "source": [
    "QFATresultsFile = os.path.join('data','QFAT_Results.txt')\n",
    "\n",
    "QFAT = pd.read_csv(QFATresultsFile,index_col = 'Patient_ID')"
   ]
  },
  {
   "cell_type": "code",
   "execution_count": null,
   "metadata": {},
   "outputs": [],
   "source": [
    "for patient,BTFE in zip(patientIDs,dicomBTFEs):\n",
    "    \n",
    "    if patient in QFAT.index and BTFE is not None:\n",
    "        im = get_image(BTFE)\n",
    "        result,mask = quantify_fat(im)\n",
    "        QFAT.loc[patient, 'BTFE fat area'] = result['meanArea (cm2)']\n",
    "        QFAT.loc[patient, 'BTFE predicted DSC'] = result['predicted DSC']"
   ]
  },
  {
   "cell_type": "code",
   "execution_count": null,
   "metadata": {},
   "outputs": [],
   "source": [
    "name,ext = os.path.splitext(QFATresultsFile)\n",
    "name += '_with_CMR'\n",
    "outputFile = name+ext\n",
    "QFAT.to_csv(outputFile)"
   ]
  },
  {
   "cell_type": "code",
   "execution_count": null,
   "metadata": {},
   "outputs": [],
   "source": [
    "plt.figure(figsize = (10,5))\n",
    "\n",
    "x,y = QFAT[' Thoracic_Fat_volume'],QFAT['BTFE fat area']\n",
    "notna = ~np.logical_or(np.isnan(x),np.isnan(y))\n",
    "goodQC = QFAT['BTFE predicted DSC'] > 0.6\n",
    "badQC = QFAT['BTFE predicted DSC'] < 0.6\n",
    "good = np.logical_and(goodQC,notna) \n",
    "bad = np.logical_and(badQC,notna)\n",
    "r,p = pearsonr(x[use],y[use])\n",
    "plt.scatter(x[good],y[good],label = 'predicted DSC > 0.6, n = '+ str(use.sum()))\n",
    "plt.scatter(x[bad],y[bad],label = 'predicted DSC < 0.6, n = '+ str(badQC.sum()),c='k',alpha = 0.5)\n",
    "plt.title(' '.join(('pearson r =','%.02f' %r,', p = %.02g' %p) ))\n",
    "plt.xlabel('Pericardial fat volume from CT/QFAT (cm$^{3}$)')\n",
    "plt.ylabel('Pericardial fat area from CMR (cm$^{2}$)')\n",
    "plt.legend()\n",
    "\n",
    "\n",
    "plt.savefig(os.path.join('graphs','CTComparison','ThoracicFatVolume_BTFE_correlation.png'))\n",
    "plt.savefig(os.path.join('graphs','CTComparison','ThoracicFatVolume_BTFE_correlation.svg'))"
   ]
  },
  {
   "cell_type": "code",
   "execution_count": null,
   "metadata": {},
   "outputs": [],
   "source": [
    "\n",
    "plt.figure(figsize = (10,5))\n",
    "\n",
    "x,y = QFAT[' Epicardial_Fat_volume'],QFAT['BTFE fat area']\n",
    "notna = ~np.logical_or(np.isnan(x),np.isnan(y))\n",
    "goodQC = QFAT['BTFE predicted DSC'] > 0.6\n",
    "badQC = QFAT['BTFE predicted DSC'] < 0.6\n",
    "good = np.logical_and(goodQC,notna) \n",
    "bad = np.logical_and(badQC,notna)\n",
    "r,p = pearsonr(x[use],y[use])\n",
    "plt.scatter(x[good],y[good],label = 'predicted DSC > 0.6, n = '+ str(use.sum()))\n",
    "plt.scatter(x[bad],y[bad],label = 'predicted DSC < 0.6, n = '+ str(badQC.sum()),c='k',alpha = 0.5)\n",
    "plt.title(' '.join(('pearson r =','%.02f' %r,', p = %.02g' %p) ))\n",
    "plt.xlabel('Pericardial fat volume from CT/QFAT (cm$^{3}$)')\n",
    "plt.ylabel('Pericardial fat area from CMR (cm$^{2}$)')\n",
    "plt.legend()\n",
    "\n",
    "plt.savefig(os.path.join('graphs','CTComparison','EpicardialFatVolume_BTFE_correlation.png'))\n",
    "plt.savefig(os.path.join('graphs','CTComparison','EpicardialFatVolume_BTFE_correlation.svg'))"
   ]
  },
  {
   "cell_type": "code",
   "execution_count": null,
   "metadata": {},
   "outputs": [],
   "source": []
  }
 ],
 "metadata": {
  "kernelspec": {
   "display_name": "Python 3",
   "language": "python",
   "name": "python3"
  },
  "language_info": {
   "codemirror_mode": {
    "name": "ipython",
    "version": 3
   },
   "file_extension": ".py",
   "mimetype": "text/x-python",
   "name": "python",
   "nbconvert_exporter": "python",
   "pygments_lexer": "ipython3",
   "version": "3.7.4"
  }
 },
 "nbformat": 4,
 "nbformat_minor": 4
}
