{
 "cells": [
  {
   "cell_type": "markdown",
   "metadata": {},
   "source": [
    "This notebook is concerned with using a model (created by unet_dev.ipynb or mrunet_dev.ipynb) to predict the areas of pericardial fat in a (much!) larger subsample of the UKBiobank dataset.  "
   ]
  },
  {
   "cell_type": "code",
   "execution_count": null,
   "metadata": {},
   "outputs": [],
   "source": [
    "import pandas as pd\n",
    "\n",
    "import numpy as np\n",
    "\n",
    "from mask_utils import load_image,show_image_with_masks\n",
    "\n",
    "import tensorflow as tf\n",
    "\n",
    "from tensorflow.keras.models import model_from_json\n",
    "\n",
    "import os\n",
    "\n",
    "from network_utils import gpu_memory_limit"
   ]
  },
  {
   "cell_type": "code",
   "execution_count": null,
   "metadata": {},
   "outputs": [],
   "source": [
    "modelHistory = os.path.join('data','models','model_history.csv') # created and iteratively modified by unet_dev.ipynb / mrunet_dev.ipynb\n",
    "\n",
    "trainedModels = pd.read_csv(modelHistory)\n",
    "\n",
    "bestModel = trainedModels['TestIOUMean'].argmax() #FIXME come up with some heuristic structure better than just choosing best test IOU\n",
    "\n",
    "modelBaseName = trainedModels.loc[bestModel,'Filename']"
   ]
  },
  {
   "cell_type": "code",
   "execution_count": null,
   "metadata": {},
   "outputs": [],
   "source": [
    "satisficing = trainedModels['TestIOUMean'] > 0.7\n",
    "\n",
    "optimizing = trainedModels['TestMCD']"
   ]
  },
  {
   "cell_type": "code",
   "execution_count": null,
   "metadata": {},
   "outputs": [],
   "source": [
    "#load the model archistecture\n",
    "with open( modelBaseName + '.json', 'r') as json_file:\n",
    "    model = model_from_json( json_file.read() )\n",
    "    \n",
    "#get the weights\n",
    "model.load_weights(modelBaseName + '.h5')    "
   ]
  },
  {
   "cell_type": "markdown",
   "metadata": {},
   "source": [
    "Now, define which f.eids we want to look at the fat for."
   ]
  },
  {
   "cell_type": "code",
   "execution_count": null,
   "metadata": {},
   "outputs": [],
   "source": [
    "#check which f.eids are listed as having LAX data from the .bulk files\n",
    "\n",
    "#List all those f.eids for which there is a LAX zipfile (should be all). Ensure that those without one are recorded\n",
    "\n",
    "#extract the manifest to a temporary file\n",
    "\n",
    "#read the manifest and find the first 4Ch cine frame\n",
    "\n",
    "#extract the correct image file\n",
    "\n",
    "#load the image file and apply the neural network!\n",
    "\n",
    "#consider batch processing of individuals, depending on the predict time relative to the extract/load time"
   ]
  },
  {
   "cell_type": "code",
   "execution_count": null,
   "metadata": {},
   "outputs": [],
   "source": []
  }
 ],
 "metadata": {
  "kernelspec": {
   "display_name": "TensorFlow 2.0 CPU",
   "language": "python",
   "name": "tf2-cpu"
  },
  "language_info": {
   "codemirror_mode": {
    "name": "ipython",
    "version": 3
   },
   "file_extension": ".py",
   "mimetype": "text/x-python",
   "name": "python",
   "nbconvert_exporter": "python",
   "pygments_lexer": "ipython3",
   "version": "3.7.6"
  }
 },
 "nbformat": 4,
 "nbformat_minor": 4
}
