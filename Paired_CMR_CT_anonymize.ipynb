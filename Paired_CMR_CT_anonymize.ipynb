{
 "cells": [
  {
   "cell_type": "code",
   "execution_count": null,
   "metadata": {},
   "outputs": [],
   "source": [
    "import pydicom as dcm\n",
    "\n",
    "import numpy as np\n",
    "\n",
    "import glob\n",
    "\n",
    "import os\n",
    "\n",
    "import re\n",
    "\n",
    "from shutil import copyfile\n",
    "\n",
    "import pickle"
   ]
  },
  {
   "cell_type": "code",
   "execution_count": null,
   "metadata": {},
   "outputs": [],
   "source": [
    "def get_patient_ID(DICOMDIR):\n",
    "    \n",
    "    registry = dcm.read_file(DICOMDIR)\n",
    "    \n",
    "    patientID = registry.DirectoryRecordSequence[0].PatientID\n",
    "    \n",
    "    return patientID\n",
    "\n",
    "def get_matching_files(DICOMDIR,SeriesDescription):\n",
    "    \n",
    "    '''takes a path to a DICOMDIR registry file, a series description and return file paths for all DICOMs from the corresponding series'''\n",
    "\n",
    "    registry = dcm.read_file(DICOMDIR)\n",
    "    #the directory containing the referenced file - which will be the top of a file tree containing all files referenced by the registry\n",
    "    containerDirectory = os.path.split(DICOMDIR)[0]\n",
    "    \n",
    "    \n",
    "    startIndex = None\n",
    "    endIndex = None\n",
    "    alldescs = []\n",
    "    \n",
    "    \n",
    "    for index,item in enumerate(registry.DirectoryRecordSequence):\n",
    "        \n",
    "        if item.DirectoryRecordType == 'SERIES':\n",
    "            alldescs.append(item.SeriesDescription)\n",
    "            if re.match(SeriesDescription,item.SeriesDescription) and startIndex is None:\n",
    "                startIndex = index+1\n",
    "            elif startIndex is not None and endIndex is None:\n",
    "                endIndex = index\n",
    "    \n",
    "    if startIndex is not None:\n",
    "        matchingFiles = []\n",
    "        for item in registry.DirectoryRecordSequence[startIndex:endIndex]:\n",
    "            if item.DirectoryRecordType == 'IMAGE':\n",
    "                filename = os.path.join(containerDirectory,*item.ReferencedFileID)\n",
    "                matchingFiles.append(filename)\n",
    "\n",
    "        return matchingFiles\n",
    "\n",
    "def first_image_in_series(listOfDicomFiles):\n",
    "    \n",
    "    #first sort the list, as usually the one with the lowest trigger time is also the first one after sorting\n",
    "    if listOfDicomFiles is not None:\n",
    "        sortedList = sorted(listOfDicomFiles)\n",
    "\n",
    "        for dicom in sortedList:\n",
    "            triggerTime = dcm.read_file(dicom).TriggerTime\n",
    "            if triggerTime == 0.0:\n",
    "                return dicom"
   ]
  },
  {
   "cell_type": "code",
   "execution_count": null,
   "metadata": {},
   "outputs": [],
   "source": [
    "DICOMDIRS = glob.glob(os.path.join('data','DICOMS','*','DICOMDIR'))\n",
    "subjects = glob.glob(os.path.join('data','DICOMS','*'))\n",
    "\n",
    "patientIDs = [get_patient_ID(d) for d in DICOMDIRS]"
   ]
  },
  {
   "cell_type": "code",
   "execution_count": null,
   "metadata": {},
   "outputs": [],
   "source": [
    "#regex-able patterns for the different sequences present\n",
    "BTFE = 'B-TFE_4CH'\n",
    "alternateBTFE = '4ch_cine'\n",
    "CaSc = '.*CaSc'\n",
    "\n",
    "dicomBTFEs = []\n",
    "\n",
    "for d in DICOMDIRS:\n",
    "    \n",
    "    dBTFE = first_image_in_series(get_matching_files(d,BTFE))\n",
    "    if not BTFE: #try the alternate string\n",
    "        dBTFE = first_image_in_series(get_matching_files(d,alternateBTFE))\n",
    "    dicomBTFEs.append(dBTFE)\n"
   ]
  },
  {
   "cell_type": "code",
   "execution_count": null,
   "metadata": {},
   "outputs": [],
   "source": [
    "dicomCTs = [get_matching_files(d,CaSc) for d in DICOMDIRS]"
   ]
  },
  {
   "cell_type": "code",
   "execution_count": null,
   "metadata": {},
   "outputs": [],
   "source": [
    "#THIS JUST USED FOR COPYING CT FILES SO QFAT IS EASIER TO USE\n",
    "CTFOLDER = os.path.join('data','CT')\n",
    "\n",
    "for s,ctList in zip(subjects,dicomCTs):\n",
    "    subjectFolder = os.path.join(CTFOLDER,os.path.split(s)[1])\n",
    "    if not os.path.isdir(subjectFolder):\n",
    "        os.makedirs(subjectFolder)\n",
    "    [copyfile(d,os.path.join(subjectFolder,os.path.split(d)[1])) for d in ctList]\n",
    "    "
   ]
  },
  {
   "cell_type": "markdown",
   "metadata": {},
   "source": [
    "Now, use QFAT to analyse all of those folders (cannot currently be done programmatically). Put the results file in 'data'"
   ]
  },
  {
   "cell_type": "markdown",
   "metadata": {},
   "source": [
    "Now, load the details for image preprocessing, and create the anonymized files:\n"
   ]
  },
  {
   "cell_type": "code",
   "execution_count": null,
   "metadata": {},
   "outputs": [],
   "source": [
    "PADSIZE = pickle.load(open(os.path.join('data','PADSIZE.pickle'),'rb'))\n",
    "PXSPACING = pickle.load(open(os.path.join('data','PXSPACING.pickle'),'rb'))\n",
    "PXAREA = np.product(PXSPACING)"
   ]
  },
  {
   "cell_type": "code",
   "execution_count": null,
   "metadata": {},
   "outputs": [],
   "source": [
    "def splitall(path):\n",
    "    allparts = []\n",
    "    while 1:\n",
    "        parts = os.path.split(path)\n",
    "        if parts[0] == path:  # sentinel for absolute paths\n",
    "            allparts.insert(0, parts[0])\n",
    "            break\n",
    "        elif parts[1] == path: # sentinel for relative paths\n",
    "            allparts.insert(0, parts[1])\n",
    "            break\n",
    "        else:\n",
    "            path = parts[0]\n",
    "            allparts.insert(0, parts[1])\n",
    "    return allparts\n",
    "\n",
    "BTFEs = [d for d in dicomBTFEs if d is not None]\n",
    "subjects = [int(splitall(d)[2]) for d in BTFEs]\n"
   ]
  },
  {
   "cell_type": "code",
   "execution_count": null,
   "metadata": {},
   "outputs": [],
   "source": [
    "anondir = os.path.join('data','anon')\n",
    "\n",
    "if not os.path.isdir(anondir):\n",
    "    os.makedirs(anondir)\n",
    "    \n",
    "anonFiles = []\n",
    "\n",
    "for patientNumber,imagePath in zip(subjects,BTFEs):\n",
    "    outFile = os.path.join(anondir,str(patientNumber).zfill(3) + '.pickle')\n",
    "    try:\n",
    "        pixelArray,pxSpacing = load_image(imagePath,desiredPxSpacing=PXSPACING, padSize=PADSIZE)\n",
    "        result = {'pxSpacing':pxSpacing,'pxArray':pixelArray}\n",
    "        with open(outFile,'wb') as f:\n",
    "            pickle.dump(result,f)\n",
    "    anonFiles.append(outFile)\n",
    "    except:\n",
    "        print(outFile)"
   ]
  }
 ],
 "metadata": {
  "kernelspec": {
   "display_name": "Python 3",
   "language": "python",
   "name": "python3"
  },
  "language_info": {
   "codemirror_mode": {
    "name": "ipython",
    "version": 3
   },
   "file_extension": ".py",
   "mimetype": "text/x-python",
   "name": "python",
   "nbconvert_exporter": "python",
   "pygments_lexer": "ipython3",
   "version": "3.7.4"
  }
 },
 "nbformat": 4,
 "nbformat_minor": 4
}
