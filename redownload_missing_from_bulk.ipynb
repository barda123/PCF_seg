{
 "cells": [
  {
   "cell_type": "markdown",
   "metadata": {},
   "source": [
    "This notebook exists so that we can try and clean up the data missing from UK biobank... preliminary work suggests that we can download anythign that is listed in the bulk files."
   ]
  },
  {
   "cell_type": "code",
   "execution_count": null,
   "metadata": {},
   "outputs": [],
   "source": [
    "import os\n",
    "\n",
    "import zipfile\n",
    "\n",
    "from itertools import compress"
   ]
  },
  {
   "cell_type": "markdown",
   "metadata": {},
   "source": [
    "Load and parse all .bulk files, looking only at their union, and subset for those referring to CMR data."
   ]
  },
  {
   "cell_type": "code",
   "execution_count": null,
   "metadata": {},
   "outputs": [],
   "source": [
    "#load bulk files, this will produce a list of strings\n",
    "bulkFiles = ['/workspace/storage/restricted-biobank/releases/REVISION_May2019/ID-27289/ukb27289.bulk','/workspace/storage/restricted-biobank/releases/REVISION_May2019/ID-29801/ukb29801.bulk']\n",
    "\n",
    "bulk = []\n",
    "\n",
    "for b in bulkFiles:\n",
    "    with open(b,'r') as f:\n",
    "        bulk+=f.readlines()\n",
    "\n",
    "#uniqueify\n",
    "bulk = list(set(bulk))\n",
    "\n",
    "print('total of ' + str(len(bulk)) + ' files listed in bulk')"
   ]
  },
  {
   "cell_type": "code",
   "execution_count": null,
   "metadata": {},
   "outputs": [],
   "source": [
    "#define dictionaries for mapping between human-readable names of zipfiles, and the UKB codes\n",
    "\n",
    "code2name = {'20207_2_0':'_scout',\n",
    "             '20208_2_0':'_longaxis',\n",
    "             '20209_2_0':'_shortaxis',\n",
    "             '20210_2_0':'_aorticdistensibility',\n",
    "             '20211_2_0':'_cinetagging',\n",
    "             '20212_2_0':'_lvot',\n",
    "             '20213_2_0':'_bloodflow',\n",
    "             '20214_2_0':'_experimentalshmollisequence',\n",
    "            }\n",
    "\n",
    "#FIXME! THERE ARE 2 DIFFERENT SPELLINGS OF '_aorticdistensibility'/'_aorticdistensibilty'\n",
    "\n",
    "name2code = {v:k for k,v in code2name.items()}\n",
    "\n",
    "#loop over bulk list, keeping elements which have been marked as interesting\n",
    "bulk = [f for f in bulk if f[8:-1] in code2name.keys()]\n",
    "\n",
    "print('subsetted for only cmr, there are ' + str(len(bulk)) + ' files.')\n"
   ]
  },
  {
   "cell_type": "markdown",
   "metadata": {},
   "source": [
    "Convert the resulting list into names of zipfiles. \n",
    "\n",
    "Check for the existence of those zipfiles at the appropriate location, and subset."
   ]
  },
  {
   "cell_type": "code",
   "execution_count": null,
   "metadata": {},
   "outputs": [],
   "source": [
    "def bulk2zip(bulk):\n",
    "    \n",
    "    feid = bulk[:7]\n",
    "    \n",
    "    code = bulk[8:-1]\n",
    "    \n",
    "    extname = code2name[code]\n",
    "    \n",
    "    return  feid + extname + '.zip'\n",
    "\n",
    "\n",
    "def zip2path(zipName):\n",
    "    \n",
    "    feid = zipName[:7]\n",
    "    \n",
    "    path = os.path.join('./data/imaging_by_participant',feid[:2] + 'xxxxx',feid,zipName)\n",
    "    \n",
    "    return path"
   ]
  },
  {
   "cell_type": "code",
   "execution_count": null,
   "metadata": {},
   "outputs": [],
   "source": [
    "zipNames = [bulk2zip(f) for f in bulk]\n",
    "\n",
    "zipPaths = [zip2path(z) for z in zipNames]\n",
    "\n",
    "notThere = [not os.path.isfile(f) for f in zipPaths]\n",
    "\n",
    "print('of ' + str(len(bulk)) + ' cmr files listed in bulk, there are ' + str(sum(notThere)) + ' files missing (' + str(100*sum(notThere)/len(bulk)) + '%).')"
   ]
  },
  {
   "cell_type": "markdown",
   "metadata": {},
   "source": [
    "Split into batches of 500 and use ukbfetch, checking which examples of each batch have failed to download"
   ]
  },
  {
   "cell_type": "markdown",
   "metadata": {},
   "source": [
    "Check the integrity of the zipfiles (!), and move valid ones into a directory structure consistent with that already used so it can be merged."
   ]
  },
  {
   "cell_type": "code",
   "execution_count": null,
   "metadata": {},
   "outputs": [],
   "source": []
  }
 ],
 "metadata": {
  "kernelspec": {
   "display_name": "Python 3",
   "language": "python",
   "name": "python3"
  },
  "language_info": {
   "codemirror_mode": {
    "name": "ipython",
    "version": 3
   },
   "file_extension": ".py",
   "mimetype": "text/x-python",
   "name": "python",
   "nbconvert_exporter": "python",
   "pygments_lexer": "ipython3",
   "version": "3.7.6"
  }
 },
 "nbformat": 4,
 "nbformat_minor": 4
}
