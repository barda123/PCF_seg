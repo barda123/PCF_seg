{
 "cells": [
  {
   "cell_type": "code",
   "execution_count": null,
   "metadata": {},
   "outputs": [],
   "source": [
    "import os\n",
    "import pickle\n",
    "import pandas as pd\n",
    "import numpy as np\n",
    "import itertools\n",
    "\n",
    "from scipy.stats import pearsonr\n",
    "import matplotlib.pyplot as plt"
   ]
  },
  {
   "cell_type": "code",
   "execution_count": null,
   "metadata": {},
   "outputs": [],
   "source": [
    "DATAFILE = './data/Bayesian_hyperparameter_tuning.pickle'\n",
    "\n",
    "if os.path.isfile(DATAFILE):\n",
    "    results = pickle.load(open(DATAFILE,'rb'))\n",
    "    print('data to be analysed from ' + str(len(results)) + ' hyperparameter combinations\\n\\n')\n",
    "else:\n",
    "    print('come back another day ! no results found')\n",
    "\n",
    "#convert to dataframe for easier everything.\n",
    "results = pd.DataFrame(results)\n",
    "\n",
    "print('\\n'.join(['results dataframe contains the following columns:'] + list(results.columns)))"
   ]
  },
  {
   "cell_type": "markdown",
   "metadata": {},
   "source": [
    "Each row of results represents a model and its performance. However, before even considering choices of hyperparameters (dropout position, r and N), we need to look at which METRICS we should be selecting on. That is, which of the mean pairwise/global IOU/DSC predicts TRUE IOU/DSC best?"
   ]
  },
  {
   "cell_type": "code",
   "execution_count": null,
   "metadata": {},
   "outputs": [],
   "source": [
    "trues = ['true IOU','true DSC']\n",
    "predictions = ['mean pairwise DSC','global DSC','mean pairwise IOU','global IOU']\n",
    "\n",
    "def clean_r2(predictor,result):\n",
    "    \n",
    "    'returns r2 from 2 arrays, as well as replacing nans with 0s to make consistent'\n",
    "    \n",
    "    predictor[np.isnan(predictor)] = 0\n",
    "    result[np.isnan(result)]=0\n",
    "    #return the actual r2 value\n",
    "    return pearsonr(predictor,result)[0]**2\n",
    "    \n",
    "def get_r2(trueName,predictionName):\n",
    "    \n",
    "    tr = results.loc[:,[trueName,predictionName]]\n",
    "    \n",
    "    #FIXME - when something better shows up, remove np.array conversion (should already be done)\n",
    "    r2s = tr.apply(lambda x: clean_r2(np.array(x[trueName]),np.array(x[predictionName])) ,axis=1)\n",
    "#     r2s = results.apply(lambda x:print(x[trueName],axis=1))\n",
    "    return r2s\n",
    "\n",
    "def mae(predictor,result):\n",
    "    \n",
    "    '''returns the mean absolute error between a set of predictions and their true values'''\n",
    "    \n",
    "    predictor[np.isnan(predictor)] = 0\n",
    "    result[np.isnan(result)]=0\n",
    "    \n",
    "    ae = np.abs(result-predictor)\n",
    "    return np.mean(ae)\n",
    "\n",
    "def get_mae(trueName,predictionName):\n",
    "    \n",
    "    tr = results.loc[:,[trueName,predictionName]]\n",
    "    \n",
    "    #FIXME - when something better shows up, remove np.array conversion (should already be done)\n",
    "    maes = tr.apply(lambda x: mae(np.array(x[trueName]),np.array(x[predictionName])) ,axis=1)\n",
    "\n",
    "    return maes"
   ]
  },
  {
   "cell_type": "code",
   "execution_count": null,
   "metadata": {},
   "outputs": [],
   "source": [
    "plt.figure(figsize = (24,12))\n",
    "\n",
    "bins = np.arange(0,1,0.05)\n",
    "\n",
    "for ind,combination in enumerate(itertools.product(trues,predictions)):\n",
    "    \n",
    "    #first column, calculate and show\n",
    "    r2s = get_r2(*combination)\n",
    "    plt.subplot(3,8,1+ind)\n",
    "    plt.hist(r2s,bins=bins,orientation='horizontal')\n",
    "    plt.ylim([0,1])\n",
    "    plt.title('/'.join(combination))\n",
    "    if ind==0:\n",
    "        plt.ylabel('R^2')\n",
    "    \n",
    "    \n",
    "    maes = get_mae(*combination)\n",
    "    plt.subplot(3,8,9+ind)\n",
    "    plt.hist(maes,bins=bins,orientation='horizontal')\n",
    "    plt.ylim([0,1])\n",
    "    if ind ==0:\n",
    "        plt.ylabel('MAE')\n",
    "        \n",
    "    plt.subplot(3,8,17+ind)\n",
    "    plt.scatter(maes,r2s)\n",
    "    plt.ylim([0,1])\n",
    "    plt.xlim([0,0.7])"
   ]
  }
 ],
 "metadata": {
  "kernelspec": {
   "display_name": "TensorFlow 2.0 GPU",
   "language": "python",
   "name": "tf2-gpu"
  },
  "language_info": {
   "codemirror_mode": {
    "name": "ipython",
    "version": 3
   },
   "file_extension": ".py",
   "mimetype": "text/x-python",
   "name": "python",
   "nbconvert_exporter": "python",
   "pygments_lexer": "ipython3",
   "version": "3.7.6"
  }
 },
 "nbformat": 4,
 "nbformat_minor": 4
}
