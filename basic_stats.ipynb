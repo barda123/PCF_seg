{
 "cells": [
  {
   "cell_type": "markdown",
   "metadata": {},
   "source": [
    "This notebook takes the image/mask pairs sorted by extract_dcm_for_wsx, and:\n",
    " - loads them, gets the areas of fat shown in the manually-created masks\n",
    " - maps them back to the pairs created by matching_diabetics_healthy_controls\n",
    " - writes out a sensibly-formatted spreadsheet, with one healthy/diabetic pair per row\n",
    " - does some basic statistics allowing us to draw conclusions about whether or not we are measuring a sensible thing"
   ]
  },
  {
   "cell_type": "code",
   "execution_count": null,
   "metadata": {},
   "outputs": [],
   "source": [
    "import pandas as pd\n",
    "\n",
    "import numpy as np\n",
    "\n",
    "from mask_utils import load_image_and_mask\n",
    "\n",
    "import glob\n",
    "\n",
    "import os\n",
    "\n",
    "import matplotlib.pyplot as plt\n",
    "\n",
    "from scipy import stats\n",
    "\n",
    "import pydicom as dcm"
   ]
  },
  {
   "cell_type": "code",
   "execution_count": null,
   "metadata": {},
   "outputs": [],
   "source": [
    "wsxDir = './data/pericardial/wsx_round2/'#directory where finalised wsx files are kept.\n",
    "pairedDir = os.path.join(wsxDir,'paired') #subdirectory for outputs.\n",
    "\n",
    "nameMapFile = './data/TT_804_32k_bridge_by_feid.csv'#this file contains a mapping between patient names within UK Biobank and the f.eid which were somehow stripped from dicoms because I messed up\n",
    "\n",
    "graphDir = './graphs'# directory for graph outputs"
   ]
  },
  {
   "cell_type": "code",
   "execution_count": null,
   "metadata": {},
   "outputs": [],
   "source": [
    "nameMap = pd.read_csv(nameMapFile).set_index('Patient_name')"
   ]
  },
  {
   "cell_type": "code",
   "execution_count": null,
   "metadata": {},
   "outputs": [],
   "source": [
    "#these are all the dicoms extracted by extract_dcm_for_wsx\n",
    "extractedDicoms = glob.glob(os.path.join(pairedDir,'*.dcm'))\n",
    "\n",
    "#get the corresponding pickles containing masks - as the folder will contain many more pickles, using the dicoms is the simplest way\n",
    "maskPickles = [d.replace('.dcm','.pickle') for d in extractedDicoms]\n",
    "\n",
    "assert all([os.path.isfile(p) for p in maskPickles]) # if this fails, something else has gone very wrong."
   ]
  },
  {
   "cell_type": "code",
   "execution_count": null,
   "metadata": {},
   "outputs": [],
   "source": [
    "def get_fat_area(picklePath,dicomPath):\n",
    "    '''this gets takes a mask pickle and dicom file, and returns the area of fat defined by the mask'''\n",
    "    \n",
    "    image,mask,pxSize = load_image_and_mask(picklePath,dicomPath)\n",
    "    \n",
    "    fatArea = np.sum(mask.flatten()) * pxSize/100 #in pXsize is in mm^2, so this gives cm^2\n",
    "    \n",
    "    return fatArea\n",
    "\n",
    "def get_feid_from_dicom(dicomPath):\n",
    "    \n",
    "    #load the dicom file\n",
    "    d = dcm.dcmread(dicomPath,stop_before_pixels=True)\n",
    "    #extract the name, and modify string to be in the same format as that of nameMap\n",
    "    patientName = str(d.PatientName).replace('^Bio','').replace(' ','').upper()\n",
    "\n",
    "    #FIXME THIS COULD POTENTIALLY USE PatientID field as well... but not a problem with my dataset. Also NO MISSING VALUE HANDLING!! (although there should never be missing values)\n",
    "    \n",
    "    #look up the corresponding f.eid in nameMap\n",
    "    return nameMap.loc[patientName,'f.eid']\n",
    "\n",
    "#use these two functions to construct a dictionary, which can then be used with a dataframe\n",
    "fatAreas = {get_feid_from_dicom(d):get_fat_area(p,d) for p,d in zip(maskPickles,extractedDicoms)}"
   ]
  },
  {
   "cell_type": "code",
   "execution_count": null,
   "metadata": {},
   "outputs": [],
   "source": [
    "paired = pd.read_csv('./data/matched_diabetics_healthy_250.csv')"
   ]
  },
  {
   "cell_type": "code",
   "execution_count": null,
   "metadata": {},
   "outputs": [],
   "source": [
    "def get_fat(feid):\n",
    "    try:\n",
    "        return fatAreas[feid]\n",
    "    except:\n",
    "        return np.nan"
   ]
  },
  {
   "cell_type": "code",
   "execution_count": null,
   "metadata": {},
   "outputs": [],
   "source": [
    "paired.loc[:,'healthy fat area (cm2)'] = paired['healthy feid'].apply(get_fat)\n",
    "\n",
    "paired.loc[:,'diabetic fat area (cm2)'] = paired['diabetic feid'].apply(get_fat)"
   ]
  },
  {
   "cell_type": "code",
   "execution_count": null,
   "metadata": {},
   "outputs": [],
   "source": [
    "\n",
    "plt.figure(figsize=(5,5))\n",
    "\n",
    "lims = [0,130]\n",
    "plt.plot(lims,lims,label = 'line of unity',c='k')\n",
    "plt.scatter(paired['healthy fat area (cm2)'],paired['diabetic fat area (cm2)'],label = 'age/sex-matched pairs',alpha=0.5)\n",
    "plt.xlabel('healthy fat area (cm$^2$)')\n",
    "plt.ylabel('diabetic fat area (cm$^2$)')\n",
    "# plt.axis('equal')\n",
    "plt.xlim(lims)\n",
    "plt.ylim(lims)\n",
    "\n",
    "plt.legend()\n",
    "\n",
    "plt.savefig(os.path.join(graphDir,'healthy_diabetic_paired_scatter.svg'))\n",
    "plt.savefig(os.path.join(graphDir,'healthy_diabetic_paired_scatter.png'))"
   ]
  },
  {
   "cell_type": "code",
   "execution_count": null,
   "metadata": {},
   "outputs": [],
   "source": [
    "#normality test...\n",
    "stat,healthy_normal_p = stats.normaltest(paired['healthy fat area (cm2)'],nan_policy='omit')\n",
    "stat,diabetic_normal_p = stats.normaltest(paired['diabetic fat area (cm2)'],nan_policy='omit')\n"
   ]
  },
  {
   "cell_type": "code",
   "execution_count": null,
   "metadata": {},
   "outputs": [],
   "source": [
    "bins = np.arange(0,130,5)\n",
    "\n",
    "plt.hist(paired.dropna()['healthy fat area (cm2)'],density=True,alpha=0.5,bins = bins,label = 'healthy, p = ' + f'{healthy_normal_p:.3}')\n",
    "plt.hist(paired.dropna()['diabetic fat area (cm2)'],density=True,alpha = 0.5,bins = bins,label = 'diabetic, p = '+ f'{diabetic_normal_p:.3}')\n",
    "\n",
    "plt.xlim(0,130)\n",
    "\n",
    "plt.legend()\n",
    "\n",
    "plt.xlabel('pericardial fat area (cm$^2$)')\n",
    "plt.ylabel('probability density')\n",
    "\n",
    "plt.savefig(os.path.join(graphDir,'healthy_diabetic_histogram.svg'))\n",
    "plt.savefig(os.path.join(graphDir,'healthy_diabetic_histogram.png'))"
   ]
  },
  {
   "cell_type": "code",
   "execution_count": null,
   "metadata": {},
   "outputs": [],
   "source": [
    "#normality test...\n",
    "stat,healthy_lognormal_p = stats.normaltest(np.log(paired['healthy fat area (cm2)']),nan_policy='omit')\n",
    "stat,diabetic_lognormal_p = stats.normaltest(np.log(paired['diabetic fat area (cm2)']),nan_policy='omit')\n"
   ]
  },
  {
   "cell_type": "code",
   "execution_count": null,
   "metadata": {},
   "outputs": [],
   "source": [
    "bins = np.arange(0.6,2.4,0.1)\n",
    "\n",
    "plt.hist(np.log10(paired.dropna()['healthy fat area (cm2)']),density=True,bins=bins,alpha=0.5,label = 'healthy, p = ' + f'{healthy_lognormal_p:.3}')\n",
    "plt.hist(np.log10(paired.dropna()['diabetic fat area (cm2)']),density=True,bins=bins,alpha = 0.5,label = 'diabetic, p = ' + f'{diabetic_lognormal_p:.3}')\n",
    "\n",
    "plt.legend()\n",
    "\n",
    "plt.xlabel('log$_{10}$(pericardial fat area (cm$^2$))')\n",
    "plt.ylabel('probability density')\n",
    "\n",
    "plt.savefig(os.path.join(graphDir,'healthy_diabetic_log_histogram.svg'))\n",
    "plt.savefig(os.path.join(graphDir,'healthy_diabetic_log_histogram.png'))"
   ]
  },
  {
   "cell_type": "code",
   "execution_count": null,
   "metadata": {},
   "outputs": [],
   "source": [
    "t,p = stats.ttest_rel(np.log(paired['healthy fat area (cm2)']),np.log(paired['diabetic fat area (cm2)']),nan_policy='omit')\n",
    "\n",
    "print('difference between healthy and diabetic fat area is' + ' not'*(p>0.05) + ' statistically significant, with t = ' + f'{t:.3}' + ', p = ' + f'{p:.3}' + ' (n = ' + str(paired.dropna().shape[0]) + ')')"
   ]
  },
  {
   "cell_type": "code",
   "execution_count": null,
   "metadata": {},
   "outputs": [],
   "source": [
    "#write out the file\n",
    "paired.to_csv('./data/matched_diabetics_healthy_250_with_manual_fat.csv')\n",
    "paired.to_csv('./data/pericardial/matched_diabetics_healthy_250_with_manual_fat.csv')"
   ]
  },
  {
   "cell_type": "code",
   "execution_count": null,
   "metadata": {},
   "outputs": [],
   "source": [
    "#corresponding stuff for the original spreadsheet, which has more patient data associated\n",
    "\n",
    "originalFile = './data/healthy_diabetics.csv'\n",
    "\n",
    "original = pd.read_csv(originalFile,index_col=0)\n",
    "\n",
    "original.loc[:,'manual fat area (cm2)'] = original['f.eid'].apply(get_fat)\n",
    "\n",
    "original.to_csv(originalFile)"
   ]
  },
  {
   "cell_type": "code",
   "execution_count": null,
   "metadata": {},
   "outputs": [],
   "source": []
  }
 ],
 "metadata": {
  "kernelspec": {
   "display_name": "Python 3",
   "language": "python",
   "name": "python3"
  },
  "language_info": {
   "codemirror_mode": {
    "name": "ipython",
    "version": 3
   },
   "file_extension": ".py",
   "mimetype": "text/x-python",
   "name": "python",
   "nbconvert_exporter": "python",
   "pygments_lexer": "ipython3",
   "version": "3.7.6"
  }
 },
 "nbformat": 4,
 "nbformat_minor": 4
}
