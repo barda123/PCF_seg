{
 "cells": [
  {
   "cell_type": "markdown",
   "metadata": {},
   "source": [
    "This notebook takes the image/mask pairs sorted by extract_dcm_for_wsx, and:\n",
    " - loads them, gets the areas of fat shown in the manually-created masks\n",
    " - maps them back to the pairs created by matching_diabetics_healthy_controls\n",
    " - writes out a sensibly-formatted spreadsheet, with one healthy/diabetic pair per row\n",
    " - does some basic statistics allowing us to draw conclusions about whether or not we are measuring a sensible thing"
   ]
  },
  {
   "cell_type": "code",
   "execution_count": null,
   "metadata": {},
   "outputs": [],
   "source": [
    "import pandas as pd\n",
    "\n",
    "import numpy as np"
   ]
  }
 ],
 "metadata": {
  "kernelspec": {
   "display_name": "Python 3",
   "language": "python",
   "name": "python3"
  },
  "language_info": {
   "codemirror_mode": {
    "name": "ipython",
    "version": 3
   },
   "file_extension": ".py",
   "mimetype": "text/x-python",
   "name": "python",
   "nbconvert_exporter": "python",
   "pygments_lexer": "ipython3",
   "version": "3.7.6"
  }
 },
 "nbformat": 4,
 "nbformat_minor": 4
}
