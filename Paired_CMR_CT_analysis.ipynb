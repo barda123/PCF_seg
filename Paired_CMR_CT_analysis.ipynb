{
 "cells": [
  {
   "cell_type": "markdown",
   "metadata": {},
   "source": [
    "This notebook will only run if data contains paired data downloaded from the Barts PACS - patients which were enrolled on the local EVINCI substudy (ask Francesca Pugliese about this)"
   ]
  },
  {
   "cell_type": "code",
   "execution_count": null,
   "metadata": {},
   "outputs": [],
   "source": [
    "import pydicom as dcm\n",
    "\n",
    "import numpy as np\n",
    "\n",
    "import glob\n",
    "\n",
    "import os\n",
    "\n",
    "import re\n",
    "\n",
    "from shutil import copyfile\n",
    "\n",
    "import matplotlib.pyplot as plt\n",
    "\n",
    "from network_utils import predict_stochastic\n",
    "from MultiResUNet.MultiResUNet import MultiResUnet\n",
    "\n",
    "from mask_utils import load_image,show_image_with_masks\n",
    "\n",
    "from tensorflow.keras.models import model_from_json\n",
    "\n",
    "import pickle\n",
    "\n",
    "import pandas as pd\n",
    "\n",
    "from scipy.stats import pearsonr"
   ]
  },
  {
   "cell_type": "markdown",
   "metadata": {},
   "source": [
    "Folder containing all of the pickled, anonymized data..."
   ]
  },
  {
   "cell_type": "code",
   "execution_count": null,
   "metadata": {},
   "outputs": [],
   "source": [
    "anonFolder = os.path.join('data','anon')\n",
    "\n",
    "anonFiles = sorted(glob.glob(os.path.join(anonFolder,'*.pickle')))\n",
    "\n",
    "subjects = [int(os.path.splitext(os.path.split(d)[1])[0]) for d in anonFiles]"
   ]
  },
  {
   "cell_type": "markdown",
   "metadata": {},
   "source": [
    "Now, load the model which will be used to make predictions..."
   ]
  },
  {
   "cell_type": "code",
   "execution_count": null,
   "metadata": {},
   "outputs": [],
   "source": [
    "#load the model\n",
    "modelBaseName = 'mrunet_bayesian_2020-07-13_13-40' \n",
    "\n",
    "#location of the actual saved model\n",
    "modelBaseName = os.path.join('data','models',modelBaseName)\n",
    "\n",
    "modelParamFile = modelBaseName + '.h5'\n",
    "modelArchitecture = modelBaseName + '.json'\n",
    "\n",
    "with open( modelArchitecture , 'r') as json_file:\n",
    "    MODEL = model_from_json( json_file.read() )\n",
    "\n",
    "MODEL.load_weights(modelParamFile)\n",
    "\n",
    "#hyperparameter N, defined according to quantify_model_performance.ipynb\n",
    "N = 15\n",
    "\n",
    "accuracyModelPath = modelBaseName + '_prediction_conversion.pickle'\n",
    "ACCURACYMODEL = pickle.load(open(accuracyModelPath,'rb'))\n"
   ]
  },
  {
   "cell_type": "markdown",
   "metadata": {},
   "source": [
    "Now, load the details for image preprocessing:\n"
   ]
  },
  {
   "cell_type": "code",
   "execution_count": null,
   "metadata": {},
   "outputs": [],
   "source": [
    "RESNAMES = ['meanArea (cm2)','stdArea (cm2)','predicted DSC']\n",
    "\n",
    "def quantify_fat(im):\n",
    "    \n",
    "    im = im.reshape((1,*im.shape,1))\n",
    "    res = predict_stochastic(MODEL,N,ACCURACYMODEL,im) \n",
    "    \n",
    "    prediction = res[0]\n",
    "\n",
    "    #wrap up into a dict for easy DataFram-ing. The first 2 outputs are the actual segmentation and the uncertainty map so not needed in a results table\n",
    "    resultDict = dict(zip(RESNAMES,res[2:]))\n",
    "\n",
    "    #ensure that units of area are correct...\n",
    "    resultDict['meanArea (cm2)'] *= (PXAREA/100)\n",
    "    resultDict['stdArea (cm2)'] *= (PXAREA/100)\n",
    "    return resultDict,prediction"
   ]
  },
  {
   "cell_type": "code",
   "execution_count": null,
   "metadata": {},
   "outputs": [],
   "source": [
    "\n",
    "plt.figure(figsize = (5,5))\n",
    "\n",
    "egFile = anonFiles[eg]\n",
    "with open(egFile,'rb') as f:\n",
    "    im = pickle.load(f)['pxArray']\n",
    "result,mask = quantify_fat(im)\n",
    "show_image_with_masks(im,mask.squeeze(),{'c':'r','linewidth':0.5})\n",
    "plt.title('predicted DSC = %.02f'  %result['predicted DSC'])\n",
    "\n",
    "plt.savefig(os.path.join('graphs','CTComparison','example' + str(eg) + '.png'))\n",
    "plt.savefig(os.path.join('graphs','CTComparison','example' + str(eg) + '.svg'))"
   ]
  },
  {
   "cell_type": "markdown",
   "metadata": {},
   "source": [
    "Now, we read the results table from QFAT so we can match up "
   ]
  },
  {
   "cell_type": "code",
   "execution_count": null,
   "metadata": {},
   "outputs": [],
   "source": [
    "QFATresultsFile = os.path.join('data','QFAT_Results.txt')\n",
    "\n",
    "QFAT = pd.read_csv(QFATresultsFile,index_col = 'Patient_Name')\n",
    "\n",
    "import pickle\n",
    "import os\n",
    "import matplotlib.pyplot as plt\n",
    "\n",
    "fp = os.path.join('EVINCI','anon','001.pickle')\n",
    "\n",
    "with open(fp,'rb') as f:\n",
    "    im = pickle.load(f)\n",
    "\n",
    "print(im)"
   ]
  },
  {
   "cell_type": "code",
   "execution_count": null,
   "metadata": {},
   "outputs": [],
   "source": [
    "for subject,BTFE in zip(subjects,anonFiles):\n",
    "    \n",
    "    if subject in QFAT.index and BTFE is not None:\n",
    "        with open(BTFE,'rb') as f:\n",
    "            im = pickle.load(f)['pxArray']\n",
    "        result,mask = quantify_fat(im)\n",
    "        QFAT.loc[patient, 'BTFE fat area'] = result['meanArea (cm2)']\n",
    "        QFAT.loc[patient, 'BTFE predicted DSC'] = result['predicted DSC']"
   ]
  },
  {
   "cell_type": "code",
   "execution_count": null,
   "metadata": {},
   "outputs": [],
   "source": [
    "name,ext = os.path.splitext(QFATresultsFile)\n",
    "name += '_with_CMR'\n",
    "outputFile = name+ext\n",
    "QFAT.to_csv(outputFile)"
   ]
  },
  {
   "cell_type": "code",
   "execution_count": null,
   "metadata": {},
   "outputs": [],
   "source": [
    "plt.figure(figsize = (10,5))\n",
    "\n",
    "x,y = QFAT[' Thoracic_Fat_volume'],QFAT['BTFE fat area']\n",
    "notna = ~np.logical_or(np.isnan(x),np.isnan(y))\n",
    "goodQC = QFAT['BTFE predicted DSC'] > 0.6\n",
    "badQC = QFAT['BTFE predicted DSC'] < 0.6\n",
    "good = np.logical_and(goodQC,notna) \n",
    "bad = np.logical_and(badQC,notna)\n",
    "r,p = pearsonr(x[use],y[use])\n",
    "plt.scatter(x[good],y[good],label = 'predicted DSC > 0.6, n = '+ str(use.sum()))\n",
    "plt.scatter(x[bad],y[bad],label = 'predicted DSC < 0.6, n = '+ str(badQC.sum()),c='k',alpha = 0.5)\n",
    "plt.title(' '.join(('pearson r =','%.02f' %r,', p = %.02g' %p) ))\n",
    "plt.xlabel('Pericardial fat volume from CT/QFAT (cm$^{3}$)')\n",
    "plt.ylabel('Pericardial fat area from CMR (cm$^{2}$)')\n",
    "plt.legend()\n",
    "\n",
    "\n",
    "plt.savefig(os.path.join('graphs','CTComparison','ThoracicFatVolume_BTFE_correlation.png'))\n",
    "plt.savefig(os.path.join('graphs','CTComparison','ThoracicFatVolume_BTFE_correlation.svg'))"
   ]
  },
  {
   "cell_type": "code",
   "execution_count": null,
   "metadata": {},
   "outputs": [],
   "source": [
    "\n",
    "plt.figure(figsize = (10,5))\n",
    "\n",
    "x,y = QFAT[' Epicardial_Fat_volume'],QFAT['BTFE fat area']\n",
    "notna = ~np.logical_or(np.isnan(x),np.isnan(y))\n",
    "goodQC = QFAT['BTFE predicted DSC'] > 0.6\n",
    "badQC = QFAT['BTFE predicted DSC'] < 0.6\n",
    "good = np.logical_and(goodQC,notna) \n",
    "bad = np.logical_and(badQC,notna)\n",
    "r,p = pearsonr(x[use],y[use])\n",
    "plt.scatter(x[good],y[good],label = 'predicted DSC > 0.6, n = '+ str(use.sum()))\n",
    "plt.scatter(x[bad],y[bad],label = 'predicted DSC < 0.6, n = '+ str(badQC.sum()),c='k',alpha = 0.5)\n",
    "plt.title(' '.join(('pearson r =','%.02f' %r,', p = %.02g' %p) ))\n",
    "plt.xlabel('Pericardial fat volume from CT/QFAT (cm$^{3}$)')\n",
    "plt.ylabel('Pericardial fat area from CMR (cm$^{2}$)')\n",
    "plt.legend()\n",
    "\n",
    "plt.savefig(os.path.join('graphs','CTComparison','EpicardialFatVolume_BTFE_correlation.png'))\n",
    "plt.savefig(os.path.join('graphs','CTComparison','EpicardialFatVolume_BTFE_correlation.svg'))"
   ]
  },
  {
   "cell_type": "code",
   "execution_count": null,
   "metadata": {},
   "outputs": [],
   "source": [
    "plt.figure(figsize = (5,5))\n",
    "\n",
    "plt.hist(QFAT['BTFE predicted DSC'],density=True)\n",
    "plt.ylabel('probability density')\n",
    "plt.xlabel('predicted Dice score')\n",
    "plt.xlim([0,1])\n",
    "plt.savefig(os.path.join('graphs','CTComparison','predictedDice.png'))\n",
    "plt.savefig(os.path.join('graphs','CTComparison','predictedDice.svg'))"
   ]
  }
 ],
 "metadata": {
  "kernelspec": {
   "display_name": "Python 3",
   "language": "python",
   "name": "python3"
  },
  "language_info": {
   "codemirror_mode": {
    "name": "ipython",
    "version": 3
   },
   "file_extension": ".py",
   "mimetype": "text/x-python",
   "name": "python",
   "nbconvert_exporter": "python",
   "pygments_lexer": "ipython3",
   "version": "3.7.4"
  }
 },
 "nbformat": 4,
 "nbformat_minor": 4
}
