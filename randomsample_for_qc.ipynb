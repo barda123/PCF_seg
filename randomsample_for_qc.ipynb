{
 "cells": [
  {
   "cell_type": "markdown",
   "metadata": {},
   "source": [
    "This notebook is used for randomly sampling from the test set for quality control and inter-observer variability quantification"
   ]
  },
  {
   "cell_type": "code",
   "execution_count": null,
   "metadata": {},
   "outputs": [],
   "source": [
    "import numpy as np\n",
    "\n",
    "import glob\n",
    "\n",
    "import os\n",
    "\n",
    "import pandas as pd\n",
    "\n",
    "import shutil\n",
    "\n",
    "from zipfile import ZipFile"
   ]
  },
  {
   "cell_type": "code",
   "execution_count": null,
   "metadata": {},
   "outputs": [],
   "source": [
    "DATADIR = './data/pericardial/wsx_round2/' #where are the wsx files stored\n",
    "\n",
    "RAWDATADIR = './data/imaging_by_participant/' # where the original zipfiles with dicoms are stored\n",
    "\n",
    "nameMapFile = './data/TT_804_32k_bridge_by_feid.csv'#this file contains a mapping between patient names within UK Biobank and the f.eid which were somehow stripped from dicoms because I messed up\n",
    "\n",
    "nameMap = pd.read_csv(nameMapFile).set_index('Patient_name')"
   ]
  },
  {
   "cell_type": "code",
   "execution_count": null,
   "metadata": {},
   "outputs": [],
   "source": [
    "#get a list of all of the wsx files\n",
    "allwsx = glob.glob(os.path.join(DATADIR,'*.cvi42wsx'))"
   ]
  },
  {
   "cell_type": "markdown",
   "metadata": {},
   "source": [
    "First - a random subset of 44 for an individual assessment by SP."
   ]
  },
  {
   "cell_type": "code",
   "execution_count": null,
   "metadata": {},
   "outputs": [],
   "source": [
    "#determinism yo\n",
    "np.random.seed(11811)\n",
    "\n",
    "sampleSize = np.ceil(len(allwsx) / 10).astype(int)\n",
    "\n",
    "#pick a subsample\n",
    "wsxSample = np.random.choice(allwsx,size = sampleSize,replace=False)\n",
    "\n",
    "#create a subfolder\n",
    "SAMPLEDIR = os.path.join(DATADIR,'QC_sample')\n",
    "\n",
    "if not os.path.isdir(SAMPLEDIR):\n",
    "    os.mkdir(SAMPLEDIR)\n",
    "\n",
    "#remove the filepaths from the names...\n",
    "wsxSampleNames = [os.path.basename(x) for x in wsxSample]\n",
    "\n",
    "#get the patient names\n",
    "patientNames = [x[:8] for x in wsxSampleNames]\n",
    "\n",
    "#get the f.eids using the lookup table..\n",
    "feids = nameMap.loc[patientNames,'f.eid']\n",
    "feidStr = feids.apply(str)\n",
    "#create a subdirectory for each feid\n",
    "feidStr.apply(lambda x: os.mkdir(os.path.join(SAMPLEDIR,x)))\n",
    "\n",
    "\n",
    "#copy all the mask files across, converting name to <f.eid>_contour\n",
    "[shutil.copy(s, os.path.join(SAMPLEDIR,d,d) + '_contour.cvi42wsx') for s,d in zip(wsxSample,feidStr.values)]\n",
    "\n",
    "#get the zipfile for each feid\n",
    "zipFilePaths = feidStr.apply(lambda x: os.path.join(RAWDATADIR,x[:2] + 'xxxxx',x,x + '_longaxis.zip'))\n",
    "assert zipFilePaths.apply(os.path.isfile).unique(),\"you messed something up and one or more of the files aren't where you thought\"\n",
    "\n",
    "# #copy the zipfiles into SAMPLEDIR\n",
    "# [shutil.copy(s,SAMPLEDIR) for s in zipFilePaths]\n",
    "\n",
    "#unzip each zipfile into its own subdirectory\n",
    "zipFilePaths.apply(lambda x: ZipFile(x,'r').extractall( os.path.join(SAMPLEDIR,os.path.basename(x)[:7]) ) );\n",
    "\n",
    "\n"
   ]
  },
  {
   "cell_type": "code",
   "execution_count": null,
   "metadata": {},
   "outputs": [],
   "source": [
    "feids.sort_index()"
   ]
  },
  {
   "cell_type": "markdown",
   "metadata": {},
   "source": [
    "Second - a random sample of 50 for inter-observer variability"
   ]
  },
  {
   "cell_type": "code",
   "execution_count": null,
   "metadata": {},
   "outputs": [],
   "source": [
    "#determinism yo\n",
    "np.random.seed(42069)\n",
    "\n",
    "sampleSize = 50\n",
    "\n",
    "#pick a subsample\n",
    "wsxSample = np.random.choice(allwsx,size = sampleSize,replace=False)\n",
    "\n",
    "#create a subfolder\n",
    "SAMPLEDIR = os.path.join(DATADIR,'interObserver_sample')\n",
    "if not os.path.isdir(SAMPLEDIR):\n",
    "    os.mkdir(SAMPLEDIR)\n",
    "\n",
    "#remove the filepaths from the names...\n",
    "wsxSampleNames = [os.path.basename(x) for x in wsxSample]\n",
    "\n",
    "#get the patient names\n",
    "patientNames = [x[:8] for x in wsxSampleNames]\n",
    "\n",
    "#get the f.eids using the lookup table..\n",
    "feids = nameMap.loc[patientNames,'f.eid']\n",
    "feidStr = feids.apply(str)\n",
    "#create a subdirectory for each feid\n",
    "feidStr.apply(lambda x: os.mkdir(os.path.join(SAMPLEDIR,x)))\n",
    "\n",
    "#DO NOT COPY THE MASKS!!!!!\n",
    "\n",
    "#get the zipfile for each feid\n",
    "zipFilePaths = feidStr.apply(lambda x: os.path.join(RAWDATADIR,x[:2] + 'xxxxx',x,x + '_longaxis.zip'))\n",
    "assert zipFilePaths.apply(os.path.isfile).unique(),\"you messed something up and one or more of the files aren't where you thought\"\n",
    "\n",
    "#unzip each zipfile into its own subdirectory\n",
    "zipFilePaths.apply(lambda x: ZipFile(x,'r').extractall( os.path.join(SAMPLEDIR,os.path.basename(x)[:7]) ) );\n",
    "\n",
    "#write out a csv so we can look at it later\n"
   ]
  },
  {
   "cell_type": "code",
   "execution_count": null,
   "metadata": {},
   "outputs": [],
   "source": []
  }
 ],
 "metadata": {
  "kernelspec": {
   "display_name": "TensorFlow 2.0 GPU",
   "language": "python",
   "name": "tf2-gpu"
  },
  "language_info": {
   "codemirror_mode": {
    "name": "ipython",
    "version": 3
   },
   "file_extension": ".py",
   "mimetype": "text/x-python",
   "name": "python",
   "nbconvert_exporter": "python",
   "pygments_lexer": "ipython3",
   "version": "3.7.6"
  }
 },
 "nbformat": 4,
 "nbformat_minor": 4
}
