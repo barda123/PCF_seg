{
 "cells": [
  {
   "cell_type": "markdown",
   "metadata": {},
   "source": [
    "This notebook is used for randomly sampling from the "
   ]
  },
  {
   "cell_type": "code",
   "execution_count": null,
   "metadata": {},
   "outputs": [],
   "source": [
    "import numpy as np\n",
    "\n",
    "import glob\n",
    "\n",
    "import os\n",
    "\n",
    "import pandas as pd\n",
    "\n",
    "import shutil\n",
    "\n",
    "from zipfile import ZipFile"
   ]
  },
  {
   "cell_type": "code",
   "execution_count": null,
   "metadata": {},
   "outputs": [],
   "source": [
    "DATADIR = './data/pericardial/wsx_round2/'\n",
    "\n",
    "nameMapFile = './data/TT_804_32k_bridge_by_feid.csv'#this file contains a mapping between patient names within UK Biobank and the f.eid which were somehow stripped from dicoms because I messed up\n",
    "\n",
    "nameMap = pd.read_csv(nameMapFile).set_index('Patient_name')"
   ]
  },
  {
   "cell_type": "code",
   "execution_count": null,
   "metadata": {},
   "outputs": [],
   "source": [
    "#get a list of all of the wsx files\n",
    "allwsx = glob.glob(os.path.join(DATADIR,'*.cvi42wsx'))"
   ]
  },
  {
   "cell_type": "markdown",
   "metadata": {},
   "source": [
    "First - a random subset of 44 for "
   ]
  },
  {
   "cell_type": "code",
   "execution_count": null,
   "metadata": {},
   "outputs": [],
   "source": [
    "#determinism yo\n",
    "np.random.seed(11811)\n",
    "\n",
    "sampleSize = np.ceil(len(allwsx) / 10).astype(int)\n",
    "\n",
    "#pick a subsample\n",
    "randomSample = np.random.choice(allwsx,size = sampleSize,replace=False)\n",
    "\n",
    "#create a subfolder\n",
    "SAMPLEDIR = os.path.join(DATADIR,'QC_sample')\n",
    "\n",
    "if not os.path.isdir(SAMPLEDIR):\n",
    "    os.mkdir(SAMPLEDIR)\n",
    "\n",
    "#copy all the files across\n",
    "[shutil.copy(x,SAMPLEDIR) for x in randomSample]\n",
    "\n",
    "#remove the filepaths from the names...\n",
    "randomSample = [os.path.basename(x) for x in randomSample]\n",
    "\n",
    "#get the patient names\n",
    "patientNames = [x[:8] for x in randomSample]\n",
    "\n",
    "#get the f.eids using the lookup table..\n",
    "feids = nameMap.loc[patientNames,'f.eid']\n",
    "\n",
    "#create a DataFrame and write the \n",
    "dataFrame = pd.DataFrame({'f.eid':feids,'filename':randomSample}).sort_index()\n",
    "dataFrame.to_csv(os.path.join(SAMPLEDIR,'QC_random_sample.csv'))\n",
    "\n",
    "\n",
    "allFiles = glob.glob(SAMPLEDIR)\n",
    "\n",
    "#zip up the subsample directory\n",
    "\n",
    "with ZipFile(SAMPLEDIR + '.zip', 'w') as zipObj:\n",
    "   # Iterate over all the files in directory\n",
    "   for folderName, subfolders, filenames in os.walk(SAMPLEDIR):\n",
    "        for filename in filenames:\n",
    "            #create complete filepath of file in directory\n",
    "            filePath = os.path.join(folderName, filename)\n",
    "            # Add file to zip\n",
    "            zipObj.write(filePath)\n"
   ]
  },
  {
   "cell_type": "code",
   "execution_count": null,
   "metadata": {},
   "outputs": [],
   "source": []
  }
 ],
 "metadata": {
  "kernelspec": {
   "display_name": "TensorFlow 2.0 GPU",
   "language": "python",
   "name": "tf2-gpu"
  },
  "language_info": {
   "codemirror_mode": {
    "name": "ipython",
    "version": 3
   },
   "file_extension": ".py",
   "mimetype": "text/x-python",
   "name": "python",
   "nbconvert_exporter": "python",
   "pygments_lexer": "ipython3",
   "version": "3.7.6"
  }
 },
 "nbformat": 4,
 "nbformat_minor": 4
}
