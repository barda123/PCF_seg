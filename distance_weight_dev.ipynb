{
 "cells": [
  {
   "cell_type": "markdown",
   "metadata": {},
   "source": [
    "This notebook is a playground for generating pixelwise weights which can be used to get better-defined edges with the semantic segmentation task of unet_dev"
   ]
  },
  {
   "cell_type": "code",
   "execution_count": null,
   "metadata": {},
   "outputs": [],
   "source": [
    "import numpy as np\n",
    "\n",
    "import matplotlib.pyplot as plt\n",
    "\n",
    "import os\n",
    "\n",
    "from skimage.measure import label\n",
    "\n",
    "from scipy.ndimage import morphology\n"
   ]
  },
  {
   "cell_type": "code",
   "execution_count": null,
   "metadata": {},
   "outputs": [],
   "source": [
    "#get some masks to play with...\n",
    "DataDir = './data/pericardial/wsx_20200221/'\n",
    "\n",
    "Y = np.load(os.path.join(DataDir,'Y.npy')).astype('float')\n",
    "\n",
    "#show an example\n",
    "m,ypx,xpx = Y.shape\n",
    "plt.imshow(Y[np.random.randint(m),:,:])\n",
    "plt.title(str(m) + ' masks of ' + str(xpx) + '*' + str(ypx) + ' pixels')"
   ]
  },
  {
   "cell_type": "code",
   "execution_count": null,
   "metadata": {},
   "outputs": [],
   "source": [
    "#some code stolen shamelessly from the internet, with the original u-net weighting function (Ronneberger et al 2015, code from https://stackoverflow.com/questions/50255438/pixel-wise-loss-weight-for-image-segmentation-in-keras)\n",
    "\n",
    "from skimage.measure import label\n",
    "\n",
    "from scipy.ndimage.morphology import distance_transform_edt\n",
    "\n",
    "\n",
    "def unet_weight_map(y, wc=None, w0 = 10, sigma = 5):\n",
    "    \"\"\"\n",
    "    Generate weight maps as specified in the U-Net paper\n",
    "    for boolean mask.\n",
    "\n",
    "    \"U-Net: Convolutional Networks for Biomedical Image Segmentation\"\n",
    "    https://arxiv.org/pdf/1505.04597.pdf\n",
    "\n",
    "    Parameters\n",
    "    ----------\n",
    "    mask: Numpy array\n",
    "        2D array of shape (image_height, image_width) representing binary mask\n",
    "        of objects.\n",
    "    wc: dict\n",
    "        Dictionary of weight classes.\n",
    "    w0: int\n",
    "        Border weight parameter.\n",
    "    sigma: int\n",
    "        Border width parameter.\n",
    "\n",
    "    Returns\n",
    "    -------\n",
    "    Numpy array\n",
    "        Training weights. A 2D array of (image_height, image_width).\n",
    "    \"\"\"\n",
    "\n",
    "    labels = label(y)\n",
    "    \n",
    "    no_labels = labels == 0\n",
    "    label_ids = sorted(np.unique(labels))[1:]\n",
    "\n",
    "    if len(label_ids) > 1:\n",
    "        distances = np.zeros((y.shape[0], y.shape[1], len(label_ids)))\n",
    "\n",
    "        for i, label_id in enumerate(label_ids):\n",
    "            distances[:,:,i] = distance_transform_edt(labels != label_id)\n",
    "\n",
    "        distances = np.sort(distances, axis=2)\n",
    "        d1 = distances[:,:,0]\n",
    "        d2 = distances[:,:,1]\n",
    "        w = w0 * np.exp(-1/2*((d1 + d2) / sigma)**2) * no_labels\n",
    "    else:\n",
    "        w = np.zeros_like(y)\n",
    "    if wc:\n",
    "        class_weights = np.zeros_like(y)\n",
    "        for k, v in wc.items():\n",
    "            class_weights[y == k] = v\n",
    "        w = w + class_weights\n",
    "    return w"
   ]
  },
  {
   "cell_type": "code",
   "execution_count": null,
   "metadata": {},
   "outputs": [],
   "source": [
    "def show_mask_weight(mask,weight):\n",
    "    \n",
    "    plt.figure(figsize = (10,5))\n",
    "    \n",
    "    plt.subplot(1,2,1)\n",
    "    \n",
    "    plt.imshow(mask)\n",
    "    \n",
    "    plt.title('mask')\n",
    "    \n",
    "    plt.xticks([])\n",
    "    plt.yticks([])\n",
    "\n",
    "    \n",
    "    plt.subplot(1,2,2)\n",
    "    \n",
    "    plt.imshow(weight)\n",
    "    \n",
    "    plt.title('weight')\n",
    "    \n",
    "    plt.xticks([])\n",
    "    plt.yticks([])\n"
   ]
  },
  {
   "cell_type": "code",
   "execution_count": null,
   "metadata": {},
   "outputs": [],
   "source": [
    "eg = Y[0,:,:]\n",
    "\n",
    "weight = unet_weight_map(eg,\n",
    "                         wc = {0:1,1:50}, #approximately class weights\n",
    "                         w0 = 10000,\n",
    "                         sigma = 100,\n",
    "                        )\n",
    "\n",
    "show_mask_weight(eg, weight)"
   ]
  },
  {
   "cell_type": "markdown",
   "metadata": {},
   "source": [
    "So, this demonstrates fairly clearly that this is totally useless. What I want is a weighting which is relative to BORDERS rather than objects."
   ]
  },
  {
   "cell_type": "code",
   "execution_count": null,
   "metadata": {},
   "outputs": [],
   "source": [
    "def nearest_border_map(mask):\n",
    "    \n",
    "    '''returns a pixelwise measure of the distance to nearest border pixel. obvs use the euclidean one.'''\n",
    "    \n",
    "    #distance to background for foreground pixels. \n",
    "    fg = morphology.distance_transform_edt(mask)\n",
    "    \n",
    "    #distance to foreground for background pixels\n",
    "    bg = morphology.distance_transform_edt(1-mask)\n",
    "    \n",
    "    distance = fg+bg\n",
    "    \n",
    "    return distance\n",
    "    \n",
    "dist = nearest_border_map(eg)\n",
    "\n",
    "show_mask_weight(eg,dist) "
   ]
  },
  {
   "cell_type": "markdown",
   "metadata": {},
   "source": [
    "So, this looks pretty but is obviously of the incorrect polarity. a basic think is to take exp(y) for this image?"
   ]
  },
  {
   "cell_type": "code",
   "execution_count": null,
   "metadata": {},
   "outputs": [],
   "source": [
    "show_mask_weight(eg,np.exp(-nearest_border_map(eg)))"
   ]
  },
  {
   "cell_type": "markdown",
   "metadata": {},
   "source": [
    "OK, but it's a bit too crispy.... need to prescale the distances."
   ]
  },
  {
   "cell_type": "code",
   "execution_count": null,
   "metadata": {},
   "outputs": [],
   "source": [
    "show_mask_weight(eg,np.exp(-0.1*nearest_border_map(eg)))"
   ]
  },
  {
   "cell_type": "markdown",
   "metadata": {},
   "source": [
    "This has a number of desirable properties:\n",
    " - represents a useful thing\n",
    " - easily rescaled\n",
    " - strictly >=0 \n",
    " - never undefined (like using reciprocals)\n",
    " \n",
    "HOWEVER, it is also annoying because of hyperparameters:\n",
    " - sigma, which scales distances prior to exponentiation\n",
    " - will also need rescaling afterwards if we want to combine it with other stuff.\n",
    "\n",
    "Wrap it up in a nice function... "
   ]
  },
  {
   "cell_type": "code",
   "execution_count": null,
   "metadata": {},
   "outputs": [],
   "source": [
    "def closeness_to_border(mask,sigma=20):\n",
    "    \n",
    "    #distance to background for foreground pixels. \n",
    "    fg = morphology.distance_transform_edt(mask)\n",
    "    \n",
    "    #distance to foreground for background pixels\n",
    "    bg = morphology.distance_transform_edt(1-mask)\n",
    "    \n",
    "    distance = fg+bg\n",
    "    \n",
    "    closeness = np.exp(-distance/sigma)\n",
    "    \n",
    "    #ensure mean of 1\n",
    "    closeness /= np.mean(closeness)\n",
    "    \n",
    "    return closeness"
   ]
  },
  {
   "cell_type": "code",
   "execution_count": null,
   "metadata": {},
   "outputs": [],
   "source": [
    "show_mask_weight(eg,closeness_to_border(eg))"
   ]
  },
  {
   "cell_type": "code",
   "execution_count": null,
   "metadata": {},
   "outputs": [],
   "source": [
    "plt.hist(closeness_to_border(eg).flatten())"
   ]
  },
  {
   "cell_type": "markdown",
   "metadata": {},
   "source": [
    "However, perhaps this is not the correct approach. ALSO, this leads to some weights very close to zero... I think that a better approach might be to use the distance to a foreground pixel, with the maximum height of the exponential defined by the class imbalance? "
   ]
  },
  {
   "cell_type": "code",
   "execution_count": null,
   "metadata": {},
   "outputs": [],
   "source": [
    "def closeness_to_foreground_balanced(mask,sigma=20):\n",
    "    \n",
    "    distance = morphology.distance_transform_edt(1-mask)\n",
    "    \n",
    "    closeness = np.exp(-distance/sigma) #which will be between 0 and 1\n",
    "    \n",
    "    #get class imbalance, assuming that there are less +ve pixels\n",
    "    imbalance = mask.size/mask.sum()\n",
    "    \n",
    "#     #rescale to be between 1 and imbalance: i.e. the fg pixels are imbalance, the far bg are 1, and scaling is between these 2 values.\n",
    "    closeness = closeness*(imbalance-1)+1\n",
    "    \n",
    "    #rescale for mean of 1\n",
    "    closeness /= np.mean(closeness)\n",
    "    \n",
    "    return closeness\n",
    "    "
   ]
  },
  {
   "cell_type": "code",
   "execution_count": null,
   "metadata": {},
   "outputs": [],
   "source": [
    "show_mask_weight(eg,closeness_to_foreground_balanced(eg,sigma=20))"
   ]
  },
  {
   "cell_type": "code",
   "execution_count": null,
   "metadata": {},
   "outputs": [],
   "source": []
  }
 ],
 "metadata": {
  "kernelspec": {
   "display_name": "Python 3",
   "language": "python",
   "name": "python3"
  },
  "language_info": {
   "codemirror_mode": {
    "name": "ipython",
    "version": 3
   },
   "file_extension": ".py",
   "mimetype": "text/x-python",
   "name": "python",
   "nbconvert_exporter": "python",
   "pygments_lexer": "ipython3",
   "version": "3.7.6"
  }
 },
 "nbformat": 4,
 "nbformat_minor": 4
}
